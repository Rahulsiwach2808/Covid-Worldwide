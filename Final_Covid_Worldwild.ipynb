{
 "cells": [
  {
   "cell_type": "code",
   "execution_count": null,
   "id": "9f8b896c",
   "metadata": {},
   "outputs": [],
   "source": []
  },
  {
   "cell_type": "markdown",
   "id": "5df2c757",
   "metadata": {},
   "source": [
    "# Importing Libraries"
   ]
  },
  {
   "cell_type": "code",
   "execution_count": 1,
   "id": "7a7ef91c",
   "metadata": {},
   "outputs": [],
   "source": [
    "import numpy as np\n",
    "import pandas as pd\n",
    "import matplotlib.pyplot as plt\n",
    "import seaborn as sns"
   ]
  },
  {
   "cell_type": "markdown",
   "id": "f8e37e57",
   "metadata": {},
   "source": [
    "# Importing/Reading Covid_Worldwild.csv"
   ]
  },
  {
   "cell_type": "code",
   "execution_count": 2,
   "id": "85bbce6f",
   "metadata": {},
   "outputs": [
    {
     "data": {
      "text/html": [
       "<div>\n",
       "<style scoped>\n",
       "    .dataframe tbody tr th:only-of-type {\n",
       "        vertical-align: middle;\n",
       "    }\n",
       "\n",
       "    .dataframe tbody tr th {\n",
       "        vertical-align: top;\n",
       "    }\n",
       "\n",
       "    .dataframe thead th {\n",
       "        text-align: right;\n",
       "    }\n",
       "</style>\n",
       "<table border=\"1\" class=\"dataframe\">\n",
       "  <thead>\n",
       "    <tr style=\"text-align: right;\">\n",
       "      <th></th>\n",
       "      <th>Serial Number</th>\n",
       "      <th>Country</th>\n",
       "      <th>Total Cases</th>\n",
       "      <th>Total Deaths</th>\n",
       "      <th>Total Recovered</th>\n",
       "      <th>Active Cases</th>\n",
       "      <th>Total Test</th>\n",
       "      <th>Population</th>\n",
       "    </tr>\n",
       "  </thead>\n",
       "  <tbody>\n",
       "    <tr>\n",
       "      <th>0</th>\n",
       "      <td>1</td>\n",
       "      <td>USA</td>\n",
       "      <td>104,196,861</td>\n",
       "      <td>1,132,935</td>\n",
       "      <td>101,322,779</td>\n",
       "      <td>1,741,147</td>\n",
       "      <td>1,159,832,679</td>\n",
       "      <td>334,805,269</td>\n",
       "    </tr>\n",
       "    <tr>\n",
       "      <th>1</th>\n",
       "      <td>2</td>\n",
       "      <td>India</td>\n",
       "      <td>44,682,784</td>\n",
       "      <td>530,740</td>\n",
       "      <td>44,150,289</td>\n",
       "      <td>1,755</td>\n",
       "      <td>915,265,788</td>\n",
       "      <td>1,406,631,776</td>\n",
       "    </tr>\n",
       "    <tr>\n",
       "      <th>2</th>\n",
       "      <td>3</td>\n",
       "      <td>France</td>\n",
       "      <td>39,524,311</td>\n",
       "      <td>164,233</td>\n",
       "      <td>39,264,546</td>\n",
       "      <td>95,532</td>\n",
       "      <td>271,490,188</td>\n",
       "      <td>65,584,518</td>\n",
       "    </tr>\n",
       "    <tr>\n",
       "      <th>3</th>\n",
       "      <td>4</td>\n",
       "      <td>Germany</td>\n",
       "      <td>37,779,833</td>\n",
       "      <td>165,711</td>\n",
       "      <td>37,398,100</td>\n",
       "      <td>216,022</td>\n",
       "      <td>122,332,384</td>\n",
       "      <td>83,883,596</td>\n",
       "    </tr>\n",
       "    <tr>\n",
       "      <th>4</th>\n",
       "      <td>5</td>\n",
       "      <td>Brazil</td>\n",
       "      <td>36,824,580</td>\n",
       "      <td>697,074</td>\n",
       "      <td>35,919,372</td>\n",
       "      <td>208,134</td>\n",
       "      <td>63,776,166</td>\n",
       "      <td>215,353,593</td>\n",
       "    </tr>\n",
       "    <tr>\n",
       "      <th>...</th>\n",
       "      <td>...</td>\n",
       "      <td>...</td>\n",
       "      <td>...</td>\n",
       "      <td>...</td>\n",
       "      <td>...</td>\n",
       "      <td>...</td>\n",
       "      <td>...</td>\n",
       "      <td>...</td>\n",
       "    </tr>\n",
       "    <tr>\n",
       "      <th>226</th>\n",
       "      <td>227</td>\n",
       "      <td>Diamond Princess</td>\n",
       "      <td>712</td>\n",
       "      <td>13</td>\n",
       "      <td>699</td>\n",
       "      <td>0</td>\n",
       "      <td>NaN</td>\n",
       "      <td>NaN</td>\n",
       "    </tr>\n",
       "    <tr>\n",
       "      <th>227</th>\n",
       "      <td>228</td>\n",
       "      <td>Vatican City</td>\n",
       "      <td>29</td>\n",
       "      <td>NaN</td>\n",
       "      <td>29</td>\n",
       "      <td>0</td>\n",
       "      <td>NaN</td>\n",
       "      <td>799</td>\n",
       "    </tr>\n",
       "    <tr>\n",
       "      <th>228</th>\n",
       "      <td>229</td>\n",
       "      <td>Western Sahara</td>\n",
       "      <td>10</td>\n",
       "      <td>1</td>\n",
       "      <td>9</td>\n",
       "      <td>0</td>\n",
       "      <td>NaN</td>\n",
       "      <td>626,161</td>\n",
       "    </tr>\n",
       "    <tr>\n",
       "      <th>229</th>\n",
       "      <td>230</td>\n",
       "      <td>MS Zaandam</td>\n",
       "      <td>9</td>\n",
       "      <td>2</td>\n",
       "      <td>7</td>\n",
       "      <td>0</td>\n",
       "      <td>NaN</td>\n",
       "      <td>NaN</td>\n",
       "    </tr>\n",
       "    <tr>\n",
       "      <th>230</th>\n",
       "      <td>231</td>\n",
       "      <td>Tokelau</td>\n",
       "      <td>5</td>\n",
       "      <td>NaN</td>\n",
       "      <td>NaN</td>\n",
       "      <td>5</td>\n",
       "      <td>NaN</td>\n",
       "      <td>1,378</td>\n",
       "    </tr>\n",
       "  </tbody>\n",
       "</table>\n",
       "<p>231 rows × 8 columns</p>\n",
       "</div>"
      ],
      "text/plain": [
       "     Serial Number           Country  Total Cases Total Deaths  \\\n",
       "0                1               USA  104,196,861    1,132,935   \n",
       "1                2             India   44,682,784      530,740   \n",
       "2                3            France   39,524,311      164,233   \n",
       "3                4           Germany   37,779,833      165,711   \n",
       "4                5            Brazil   36,824,580      697,074   \n",
       "..             ...               ...          ...          ...   \n",
       "226            227  Diamond Princess          712           13   \n",
       "227            228      Vatican City           29          NaN   \n",
       "228            229    Western Sahara           10            1   \n",
       "229            230        MS Zaandam            9            2   \n",
       "230            231           Tokelau            5          NaN   \n",
       "\n",
       "    Total Recovered Active Cases     Total Test     Population  \n",
       "0       101,322,779    1,741,147  1,159,832,679    334,805,269  \n",
       "1        44,150,289        1,755    915,265,788  1,406,631,776  \n",
       "2        39,264,546       95,532    271,490,188     65,584,518  \n",
       "3        37,398,100      216,022    122,332,384     83,883,596  \n",
       "4        35,919,372      208,134     63,776,166    215,353,593  \n",
       "..              ...          ...            ...            ...  \n",
       "226             699            0            NaN            NaN  \n",
       "227              29            0            NaN            799  \n",
       "228               9            0            NaN        626,161  \n",
       "229               7            0            NaN            NaN  \n",
       "230             NaN            5            NaN          1,378  \n",
       "\n",
       "[231 rows x 8 columns]"
      ]
     },
     "execution_count": 2,
     "metadata": {},
     "output_type": "execute_result"
    }
   ],
   "source": [
    "DS1 = pd.read_csv(\"C:\\\\Users\\\\HP\\\\Desktop\\\\Projects\\\\Project 1\\\\covid_worldwide.csv\")\n",
    "DS1"
   ]
  },
  {
   "cell_type": "code",
   "execution_count": 3,
   "id": "79f93331",
   "metadata": {},
   "outputs": [
    {
     "name": "stdout",
     "output_type": "stream",
     "text": [
      "<class 'pandas.core.frame.DataFrame'>\n",
      "RangeIndex: 231 entries, 0 to 230\n",
      "Data columns (total 8 columns):\n",
      " #   Column           Non-Null Count  Dtype \n",
      "---  ------           --------------  ----- \n",
      " 0   Serial Number    231 non-null    int64 \n",
      " 1   Country          231 non-null    object\n",
      " 2   Total Cases      231 non-null    object\n",
      " 3   Total Deaths     225 non-null    object\n",
      " 4   Total Recovered  210 non-null    object\n",
      " 5   Active Cases     212 non-null    object\n",
      " 6   Total Test       213 non-null    object\n",
      " 7   Population       228 non-null    object\n",
      "dtypes: int64(1), object(7)\n",
      "memory usage: 14.6+ KB\n"
     ]
    }
   ],
   "source": [
    "# Checking the Number of columns and their datatype\n",
    "DS1.info()"
   ]
  },
  {
   "cell_type": "markdown",
   "id": "95431378",
   "metadata": {},
   "source": [
    "# Checking the Null Values"
   ]
  },
  {
   "cell_type": "code",
   "execution_count": 4,
   "id": "71fc017b",
   "metadata": {},
   "outputs": [
    {
     "data": {
      "text/plain": [
       "Serial Number       0\n",
       "Country             0\n",
       "Total Cases         0\n",
       "Total Deaths        6\n",
       "Total Recovered    21\n",
       "Active Cases       19\n",
       "Total Test         18\n",
       "Population          3\n",
       "dtype: int64"
      ]
     },
     "execution_count": 4,
     "metadata": {},
     "output_type": "execute_result"
    }
   ],
   "source": [
    "# Checking the null values in the columns \n",
    "DS1.isnull().sum()"
   ]
  },
  {
   "cell_type": "code",
   "execution_count": 5,
   "id": "478a27a7",
   "metadata": {},
   "outputs": [
    {
     "data": {
      "text/html": [
       "<div>\n",
       "<style scoped>\n",
       "    .dataframe tbody tr th:only-of-type {\n",
       "        vertical-align: middle;\n",
       "    }\n",
       "\n",
       "    .dataframe tbody tr th {\n",
       "        vertical-align: top;\n",
       "    }\n",
       "\n",
       "    .dataframe thead th {\n",
       "        text-align: right;\n",
       "    }\n",
       "</style>\n",
       "<table border=\"1\" class=\"dataframe\">\n",
       "  <thead>\n",
       "    <tr style=\"text-align: right;\">\n",
       "      <th></th>\n",
       "      <th>Serial Number</th>\n",
       "      <th>Country</th>\n",
       "      <th>Total Cases</th>\n",
       "      <th>Total Deaths</th>\n",
       "      <th>Total Recovered</th>\n",
       "      <th>Active Cases</th>\n",
       "      <th>Total Test</th>\n",
       "      <th>Population</th>\n",
       "    </tr>\n",
       "  </thead>\n",
       "  <tbody>\n",
       "    <tr>\n",
       "      <th>10</th>\n",
       "      <td>11</td>\n",
       "      <td>Turkey</td>\n",
       "      <td>17,042,722</td>\n",
       "      <td>101,492</td>\n",
       "      <td>NaN</td>\n",
       "      <td>NaN</td>\n",
       "      <td>162,743,369</td>\n",
       "      <td>85,561,976</td>\n",
       "    </tr>\n",
       "    <tr>\n",
       "      <th>29</th>\n",
       "      <td>30</td>\n",
       "      <td>DPRK</td>\n",
       "      <td>4,772,813</td>\n",
       "      <td>74</td>\n",
       "      <td>4,772,739</td>\n",
       "      <td>0</td>\n",
       "      <td>NaN</td>\n",
       "      <td>25,990,679</td>\n",
       "    </tr>\n",
       "    <tr>\n",
       "      <th>65</th>\n",
       "      <td>66</td>\n",
       "      <td>Tunisia</td>\n",
       "      <td>1,150,356</td>\n",
       "      <td>29,308</td>\n",
       "      <td>NaN</td>\n",
       "      <td>NaN</td>\n",
       "      <td>4,997,373</td>\n",
       "      <td>12,046,656</td>\n",
       "    </tr>\n",
       "    <tr>\n",
       "      <th>77</th>\n",
       "      <td>78</td>\n",
       "      <td>Paraguay</td>\n",
       "      <td>806,256</td>\n",
       "      <td>19,820</td>\n",
       "      <td>NaN</td>\n",
       "      <td>NaN</td>\n",
       "      <td>2,657,506</td>\n",
       "      <td>7,305,843</td>\n",
       "    </tr>\n",
       "    <tr>\n",
       "      <th>90</th>\n",
       "      <td>91</td>\n",
       "      <td>China</td>\n",
       "      <td>503,302</td>\n",
       "      <td>5,272</td>\n",
       "      <td>379,053</td>\n",
       "      <td>118,977</td>\n",
       "      <td>160,000,000</td>\n",
       "      <td>NaN</td>\n",
       "    </tr>\n",
       "    <tr>\n",
       "      <th>94</th>\n",
       "      <td>95</td>\n",
       "      <td>Honduras</td>\n",
       "      <td>470,757</td>\n",
       "      <td>11,104</td>\n",
       "      <td>NaN</td>\n",
       "      <td>NaN</td>\n",
       "      <td>1,619,676</td>\n",
       "      <td>10,221,247</td>\n",
       "    </tr>\n",
       "    <tr>\n",
       "      <th>111</th>\n",
       "      <td>112</td>\n",
       "      <td>Martinique</td>\n",
       "      <td>229,687</td>\n",
       "      <td>1,097</td>\n",
       "      <td>NaN</td>\n",
       "      <td>NaN</td>\n",
       "      <td>828,928</td>\n",
       "      <td>374,087</td>\n",
       "    </tr>\n",
       "    <tr>\n",
       "      <th>112</th>\n",
       "      <td>113</td>\n",
       "      <td>Laos</td>\n",
       "      <td>217,973</td>\n",
       "      <td>758</td>\n",
       "      <td>NaN</td>\n",
       "      <td>NaN</td>\n",
       "      <td>1,233,207</td>\n",
       "      <td>7,481,023</td>\n",
       "    </tr>\n",
       "    <tr>\n",
       "      <th>113</th>\n",
       "      <td>114</td>\n",
       "      <td>Iceland</td>\n",
       "      <td>208,688</td>\n",
       "      <td>229</td>\n",
       "      <td>NaN</td>\n",
       "      <td>NaN</td>\n",
       "      <td>1,996,384</td>\n",
       "      <td>345,393</td>\n",
       "    </tr>\n",
       "    <tr>\n",
       "      <th>117</th>\n",
       "      <td>118</td>\n",
       "      <td>Guadeloupe</td>\n",
       "      <td>201,394</td>\n",
       "      <td>1,007</td>\n",
       "      <td>NaN</td>\n",
       "      <td>NaN</td>\n",
       "      <td>938,039</td>\n",
       "      <td>399,794</td>\n",
       "    </tr>\n",
       "    <tr>\n",
       "      <th>136</th>\n",
       "      <td>137</td>\n",
       "      <td>Suriname</td>\n",
       "      <td>82,020</td>\n",
       "      <td>1,398</td>\n",
       "      <td>NaN</td>\n",
       "      <td>NaN</td>\n",
       "      <td>239,603</td>\n",
       "      <td>596,831</td>\n",
       "    </tr>\n",
       "    <tr>\n",
       "      <th>138</th>\n",
       "      <td>139</td>\n",
       "      <td>French Polynesia</td>\n",
       "      <td>77,957</td>\n",
       "      <td>649</td>\n",
       "      <td>NaN</td>\n",
       "      <td>NaN</td>\n",
       "      <td>NaN</td>\n",
       "      <td>284,164</td>\n",
       "    </tr>\n",
       "    <tr>\n",
       "      <th>150</th>\n",
       "      <td>151</td>\n",
       "      <td>Seychelles</td>\n",
       "      <td>50,665</td>\n",
       "      <td>172</td>\n",
       "      <td>50,440</td>\n",
       "      <td>53</td>\n",
       "      <td>NaN</td>\n",
       "      <td>99,426</td>\n",
       "    </tr>\n",
       "    <tr>\n",
       "      <th>156</th>\n",
       "      <td>157</td>\n",
       "      <td>Tanzania</td>\n",
       "      <td>42,664</td>\n",
       "      <td>846</td>\n",
       "      <td>NaN</td>\n",
       "      <td>NaN</td>\n",
       "      <td>NaN</td>\n",
       "      <td>63,298,550</td>\n",
       "    </tr>\n",
       "    <tr>\n",
       "      <th>157</th>\n",
       "      <td>158</td>\n",
       "      <td>Mayotte</td>\n",
       "      <td>42,002</td>\n",
       "      <td>188</td>\n",
       "      <td>NaN</td>\n",
       "      <td>NaN</td>\n",
       "      <td>176,919</td>\n",
       "      <td>286,259</td>\n",
       "    </tr>\n",
       "    <tr>\n",
       "      <th>161</th>\n",
       "      <td>162</td>\n",
       "      <td>Isle of Man</td>\n",
       "      <td>38,008</td>\n",
       "      <td>116</td>\n",
       "      <td>NaN</td>\n",
       "      <td>NaN</td>\n",
       "      <td>150,753</td>\n",
       "      <td>85,732</td>\n",
       "    </tr>\n",
       "    <tr>\n",
       "      <th>164</th>\n",
       "      <td>165</td>\n",
       "      <td>Faeroe Islands</td>\n",
       "      <td>34,658</td>\n",
       "      <td>28</td>\n",
       "      <td>NaN</td>\n",
       "      <td>NaN</td>\n",
       "      <td>778,000</td>\n",
       "      <td>49,233</td>\n",
       "    </tr>\n",
       "    <tr>\n",
       "      <th>172</th>\n",
       "      <td>173</td>\n",
       "      <td>Solomon Islands</td>\n",
       "      <td>24,575</td>\n",
       "      <td>153</td>\n",
       "      <td>NaN</td>\n",
       "      <td>NaN</td>\n",
       "      <td>NaN</td>\n",
       "      <td>721,159</td>\n",
       "    </tr>\n",
       "    <tr>\n",
       "      <th>175</th>\n",
       "      <td>176</td>\n",
       "      <td>Micronesia</td>\n",
       "      <td>22,676</td>\n",
       "      <td>58</td>\n",
       "      <td>NaN</td>\n",
       "      <td>NaN</td>\n",
       "      <td>54,967</td>\n",
       "      <td>117,489</td>\n",
       "    </tr>\n",
       "    <tr>\n",
       "      <th>181</th>\n",
       "      <td>182</td>\n",
       "      <td>Nicaragua</td>\n",
       "      <td>18,491</td>\n",
       "      <td>225</td>\n",
       "      <td>4,225</td>\n",
       "      <td>14,041</td>\n",
       "      <td>NaN</td>\n",
       "      <td>6,779,100</td>\n",
       "    </tr>\n",
       "    <tr>\n",
       "      <th>183</th>\n",
       "      <td>184</td>\n",
       "      <td>Tajikistan</td>\n",
       "      <td>17,786</td>\n",
       "      <td>125</td>\n",
       "      <td>17,264</td>\n",
       "      <td>397</td>\n",
       "      <td>NaN</td>\n",
       "      <td>9,957,464</td>\n",
       "    </tr>\n",
       "    <tr>\n",
       "      <th>190</th>\n",
       "      <td>191</td>\n",
       "      <td>Marshall Islands</td>\n",
       "      <td>15,584</td>\n",
       "      <td>17</td>\n",
       "      <td>15,528</td>\n",
       "      <td>39</td>\n",
       "      <td>NaN</td>\n",
       "      <td>60,057</td>\n",
       "    </tr>\n",
       "    <tr>\n",
       "      <th>203</th>\n",
       "      <td>204</td>\n",
       "      <td>Comoros</td>\n",
       "      <td>8,992</td>\n",
       "      <td>161</td>\n",
       "      <td>8,827</td>\n",
       "      <td>4</td>\n",
       "      <td>NaN</td>\n",
       "      <td>907,419</td>\n",
       "    </tr>\n",
       "    <tr>\n",
       "      <th>206</th>\n",
       "      <td>207</td>\n",
       "      <td>Sierra Leone</td>\n",
       "      <td>7,760</td>\n",
       "      <td>126</td>\n",
       "      <td>NaN</td>\n",
       "      <td>NaN</td>\n",
       "      <td>259,958</td>\n",
       "      <td>8,306,436</td>\n",
       "    </tr>\n",
       "    <tr>\n",
       "      <th>208</th>\n",
       "      <td>209</td>\n",
       "      <td>British Virgin Islands</td>\n",
       "      <td>7,305</td>\n",
       "      <td>64</td>\n",
       "      <td>NaN</td>\n",
       "      <td>NaN</td>\n",
       "      <td>107,339</td>\n",
       "      <td>30,596</td>\n",
       "    </tr>\n",
       "    <tr>\n",
       "      <th>214</th>\n",
       "      <td>215</td>\n",
       "      <td>St. Barth</td>\n",
       "      <td>5,420</td>\n",
       "      <td>6</td>\n",
       "      <td>NaN</td>\n",
       "      <td>NaN</td>\n",
       "      <td>78,646</td>\n",
       "      <td>9,945</td>\n",
       "    </tr>\n",
       "    <tr>\n",
       "      <th>215</th>\n",
       "      <td>216</td>\n",
       "      <td>Kiribati</td>\n",
       "      <td>5,008</td>\n",
       "      <td>18</td>\n",
       "      <td>2,703</td>\n",
       "      <td>2,287</td>\n",
       "      <td>NaN</td>\n",
       "      <td>123,419</td>\n",
       "    </tr>\n",
       "    <tr>\n",
       "      <th>221</th>\n",
       "      <td>222</td>\n",
       "      <td>Tuvalu</td>\n",
       "      <td>2,805</td>\n",
       "      <td>NaN</td>\n",
       "      <td>NaN</td>\n",
       "      <td>2,805</td>\n",
       "      <td>NaN</td>\n",
       "      <td>12,066</td>\n",
       "    </tr>\n",
       "    <tr>\n",
       "      <th>222</th>\n",
       "      <td>223</td>\n",
       "      <td>Saint Helena</td>\n",
       "      <td>2,166</td>\n",
       "      <td>NaN</td>\n",
       "      <td>2</td>\n",
       "      <td>2,164</td>\n",
       "      <td>NaN</td>\n",
       "      <td>6,115</td>\n",
       "    </tr>\n",
       "    <tr>\n",
       "      <th>223</th>\n",
       "      <td>224</td>\n",
       "      <td>Falkland Islands</td>\n",
       "      <td>1,930</td>\n",
       "      <td>NaN</td>\n",
       "      <td>1,930</td>\n",
       "      <td>0</td>\n",
       "      <td>8,632</td>\n",
       "      <td>3,539</td>\n",
       "    </tr>\n",
       "    <tr>\n",
       "      <th>225</th>\n",
       "      <td>226</td>\n",
       "      <td>Niue</td>\n",
       "      <td>747</td>\n",
       "      <td>NaN</td>\n",
       "      <td>746</td>\n",
       "      <td>1</td>\n",
       "      <td>NaN</td>\n",
       "      <td>1,622</td>\n",
       "    </tr>\n",
       "    <tr>\n",
       "      <th>226</th>\n",
       "      <td>227</td>\n",
       "      <td>Diamond Princess</td>\n",
       "      <td>712</td>\n",
       "      <td>13</td>\n",
       "      <td>699</td>\n",
       "      <td>0</td>\n",
       "      <td>NaN</td>\n",
       "      <td>NaN</td>\n",
       "    </tr>\n",
       "    <tr>\n",
       "      <th>227</th>\n",
       "      <td>228</td>\n",
       "      <td>Vatican City</td>\n",
       "      <td>29</td>\n",
       "      <td>NaN</td>\n",
       "      <td>29</td>\n",
       "      <td>0</td>\n",
       "      <td>NaN</td>\n",
       "      <td>799</td>\n",
       "    </tr>\n",
       "    <tr>\n",
       "      <th>228</th>\n",
       "      <td>229</td>\n",
       "      <td>Western Sahara</td>\n",
       "      <td>10</td>\n",
       "      <td>1</td>\n",
       "      <td>9</td>\n",
       "      <td>0</td>\n",
       "      <td>NaN</td>\n",
       "      <td>626,161</td>\n",
       "    </tr>\n",
       "    <tr>\n",
       "      <th>229</th>\n",
       "      <td>230</td>\n",
       "      <td>MS Zaandam</td>\n",
       "      <td>9</td>\n",
       "      <td>2</td>\n",
       "      <td>7</td>\n",
       "      <td>0</td>\n",
       "      <td>NaN</td>\n",
       "      <td>NaN</td>\n",
       "    </tr>\n",
       "    <tr>\n",
       "      <th>230</th>\n",
       "      <td>231</td>\n",
       "      <td>Tokelau</td>\n",
       "      <td>5</td>\n",
       "      <td>NaN</td>\n",
       "      <td>NaN</td>\n",
       "      <td>5</td>\n",
       "      <td>NaN</td>\n",
       "      <td>1,378</td>\n",
       "    </tr>\n",
       "  </tbody>\n",
       "</table>\n",
       "</div>"
      ],
      "text/plain": [
       "     Serial Number                 Country Total Cases Total Deaths  \\\n",
       "10              11                  Turkey  17,042,722      101,492   \n",
       "29              30                    DPRK   4,772,813           74   \n",
       "65              66                 Tunisia   1,150,356       29,308   \n",
       "77              78                Paraguay     806,256       19,820   \n",
       "90              91                   China     503,302        5,272   \n",
       "94              95                Honduras     470,757       11,104   \n",
       "111            112              Martinique     229,687        1,097   \n",
       "112            113                    Laos     217,973          758   \n",
       "113            114                 Iceland     208,688          229   \n",
       "117            118              Guadeloupe     201,394        1,007   \n",
       "136            137                Suriname      82,020        1,398   \n",
       "138            139        French Polynesia      77,957          649   \n",
       "150            151              Seychelles      50,665          172   \n",
       "156            157                Tanzania      42,664          846   \n",
       "157            158                 Mayotte      42,002          188   \n",
       "161            162             Isle of Man      38,008          116   \n",
       "164            165          Faeroe Islands      34,658           28   \n",
       "172            173         Solomon Islands      24,575          153   \n",
       "175            176              Micronesia      22,676           58   \n",
       "181            182               Nicaragua      18,491          225   \n",
       "183            184              Tajikistan      17,786          125   \n",
       "190            191        Marshall Islands      15,584           17   \n",
       "203            204                 Comoros       8,992          161   \n",
       "206            207            Sierra Leone       7,760          126   \n",
       "208            209  British Virgin Islands       7,305           64   \n",
       "214            215               St. Barth       5,420            6   \n",
       "215            216                Kiribati       5,008           18   \n",
       "221            222                  Tuvalu       2,805          NaN   \n",
       "222            223            Saint Helena       2,166          NaN   \n",
       "223            224        Falkland Islands       1,930          NaN   \n",
       "225            226                    Niue         747          NaN   \n",
       "226            227        Diamond Princess         712           13   \n",
       "227            228            Vatican City          29          NaN   \n",
       "228            229          Western Sahara          10            1   \n",
       "229            230              MS Zaandam           9            2   \n",
       "230            231                 Tokelau           5          NaN   \n",
       "\n",
       "    Total Recovered Active Cases   Total Test  Population  \n",
       "10              NaN          NaN  162,743,369  85,561,976  \n",
       "29        4,772,739            0          NaN  25,990,679  \n",
       "65              NaN          NaN    4,997,373  12,046,656  \n",
       "77              NaN          NaN    2,657,506   7,305,843  \n",
       "90          379,053      118,977  160,000,000         NaN  \n",
       "94              NaN          NaN    1,619,676  10,221,247  \n",
       "111             NaN          NaN      828,928     374,087  \n",
       "112             NaN          NaN    1,233,207   7,481,023  \n",
       "113             NaN          NaN    1,996,384     345,393  \n",
       "117             NaN          NaN      938,039     399,794  \n",
       "136             NaN          NaN      239,603     596,831  \n",
       "138             NaN          NaN          NaN     284,164  \n",
       "150          50,440           53          NaN      99,426  \n",
       "156             NaN          NaN          NaN  63,298,550  \n",
       "157             NaN          NaN      176,919     286,259  \n",
       "161             NaN          NaN      150,753      85,732  \n",
       "164             NaN          NaN      778,000      49,233  \n",
       "172             NaN          NaN          NaN     721,159  \n",
       "175             NaN          NaN       54,967     117,489  \n",
       "181           4,225       14,041          NaN   6,779,100  \n",
       "183          17,264          397          NaN   9,957,464  \n",
       "190          15,528           39          NaN      60,057  \n",
       "203           8,827            4          NaN     907,419  \n",
       "206             NaN          NaN      259,958   8,306,436  \n",
       "208             NaN          NaN      107,339      30,596  \n",
       "214             NaN          NaN       78,646       9,945  \n",
       "215           2,703        2,287          NaN     123,419  \n",
       "221             NaN        2,805          NaN      12,066  \n",
       "222               2        2,164          NaN       6,115  \n",
       "223           1,930            0        8,632       3,539  \n",
       "225             746            1          NaN       1,622  \n",
       "226             699            0          NaN         NaN  \n",
       "227              29            0          NaN         799  \n",
       "228               9            0          NaN     626,161  \n",
       "229               7            0          NaN         NaN  \n",
       "230             NaN            5          NaN       1,378  "
      ]
     },
     "execution_count": 5,
     "metadata": {},
     "output_type": "execute_result"
    }
   ],
   "source": [
    "# DS2 shows the rows having null values in any column\n",
    "DS2 = DS1[DS1.isnull().any(axis=1)]\n",
    "DS2"
   ]
  },
  {
   "cell_type": "code",
   "execution_count": 6,
   "id": "537231d7",
   "metadata": {},
   "outputs": [],
   "source": [
    "# We can study some relation between between Total Cases , Total Deaths , Total Recovered and Active Cases\n",
    "\n",
    "## We can fill = 0 to null values onl if =\n",
    "# Possibilty 1 = Total Cases - Case1.1 ( Total Deaths + Total Recovered + Active Cases)\n",
    "#                            - Case1.2 (= Total Deaths)\n",
    "#                            - Case1.3 (= Total Recovered)\n",
    "#                            - Case1.4 (= Active Cases)\n",
    "#                            - Case1.5 (= Total Deaths + Active Cases)\n",
    "#                            - Case1.6 (= Total Recovered + Active Cases)\n",
    "\n",
    "# Possibilty 2 - If we Subtract then Active Cases from Total Cases.....\n",
    "#                (Total Cases - Active Cases = X ) ....then this X must be equal to = \n",
    "#                            - Case2.1 (X = Total Deaths + Total Recovered)\n",
    "#                            - Case2.2 (X = Total Deaths(Total Recovered=0))\n",
    "#                            - Case2.3 (X = Total Recovered(Total Deaths=0))\n",
    "\n",
    "# With the help of these Possibilites/Relation between the Columns we can Fill the Values \n",
    "\n",
    "## But we can't fill any values where = \n",
    "#                            - Case 3.1 ( Value of Active Cases and Total Deaths is null & Total Cases != Total Recovered)\n",
    "#                            - Case 3.2 ( Value of Active Cases and Total Recovered is null & Total Cases != Total Deaths)\n",
    "#                            - Case 3.3 ( Null values present in Total test column)\n",
    "#                            - Case 3.4 ( Null values present in Population column)"
   ]
  },
  {
   "cell_type": "markdown",
   "id": "0aa50da6",
   "metadata": {},
   "source": [
    "# Filling up the null values that satisfies the above equations/cases - "
   ]
  },
  {
   "cell_type": "code",
   "execution_count": 7,
   "id": "746054ea",
   "metadata": {},
   "outputs": [
    {
     "data": {
      "text/plain": [
       "Serial Number       0\n",
       "Country             0\n",
       "Total Cases         0\n",
       "Total Deaths        0\n",
       "Total Recovered    21\n",
       "Active Cases       19\n",
       "Total Test         18\n",
       "Population          3\n",
       "dtype: int64"
      ]
     },
     "execution_count": 7,
     "metadata": {},
     "output_type": "execute_result"
    }
   ],
   "source": [
    "# All the rows of having null values in the Column (\"Total Deaths\")satisfies the Possibility 1 and 2 # \n",
    "# Therefore all the Null values is filled up by 0 without having no effect on data \n",
    "\n",
    "DS1[\"Total Deaths\"]=DS1[\"Total Deaths\"].fillna(0)  \n",
    "DS1.isnull().sum()"
   ]
  },
  {
   "cell_type": "code",
   "execution_count": 8,
   "id": "978801bc",
   "metadata": {},
   "outputs": [],
   "source": [
    "# Remaining Null Values will be changed/removed according to the arguments "
   ]
  },
  {
   "cell_type": "code",
   "execution_count": 9,
   "id": "2fc34716",
   "metadata": {},
   "outputs": [
    {
     "data": {
      "text/html": [
       "<div>\n",
       "<style scoped>\n",
       "    .dataframe tbody tr th:only-of-type {\n",
       "        vertical-align: middle;\n",
       "    }\n",
       "\n",
       "    .dataframe tbody tr th {\n",
       "        vertical-align: top;\n",
       "    }\n",
       "\n",
       "    .dataframe thead th {\n",
       "        text-align: right;\n",
       "    }\n",
       "</style>\n",
       "<table border=\"1\" class=\"dataframe\">\n",
       "  <thead>\n",
       "    <tr style=\"text-align: right;\">\n",
       "      <th></th>\n",
       "      <th>Serial Number</th>\n",
       "      <th>Country</th>\n",
       "      <th>Total Cases</th>\n",
       "      <th>Total Deaths</th>\n",
       "      <th>Total Recovered</th>\n",
       "      <th>Active Cases</th>\n",
       "      <th>Total Test</th>\n",
       "      <th>Population</th>\n",
       "    </tr>\n",
       "  </thead>\n",
       "  <tbody>\n",
       "    <tr>\n",
       "      <th>0</th>\n",
       "      <td>1</td>\n",
       "      <td>USA</td>\n",
       "      <td>104,196,861</td>\n",
       "      <td>1,132,935</td>\n",
       "      <td>101,322,779</td>\n",
       "      <td>1,741,147</td>\n",
       "      <td>1,159,832,679</td>\n",
       "      <td>334,805,269</td>\n",
       "    </tr>\n",
       "    <tr>\n",
       "      <th>1</th>\n",
       "      <td>2</td>\n",
       "      <td>India</td>\n",
       "      <td>44,682,784</td>\n",
       "      <td>530,740</td>\n",
       "      <td>44,150,289</td>\n",
       "      <td>1,755</td>\n",
       "      <td>915,265,788</td>\n",
       "      <td>1,406,631,776</td>\n",
       "    </tr>\n",
       "    <tr>\n",
       "      <th>2</th>\n",
       "      <td>3</td>\n",
       "      <td>France</td>\n",
       "      <td>39,524,311</td>\n",
       "      <td>164,233</td>\n",
       "      <td>39,264,546</td>\n",
       "      <td>95,532</td>\n",
       "      <td>271,490,188</td>\n",
       "      <td>65,584,518</td>\n",
       "    </tr>\n",
       "    <tr>\n",
       "      <th>3</th>\n",
       "      <td>4</td>\n",
       "      <td>Germany</td>\n",
       "      <td>37,779,833</td>\n",
       "      <td>165,711</td>\n",
       "      <td>37,398,100</td>\n",
       "      <td>216,022</td>\n",
       "      <td>122,332,384</td>\n",
       "      <td>83,883,596</td>\n",
       "    </tr>\n",
       "    <tr>\n",
       "      <th>4</th>\n",
       "      <td>5</td>\n",
       "      <td>Brazil</td>\n",
       "      <td>36,824,580</td>\n",
       "      <td>697,074</td>\n",
       "      <td>35,919,372</td>\n",
       "      <td>208,134</td>\n",
       "      <td>63,776,166</td>\n",
       "      <td>215,353,593</td>\n",
       "    </tr>\n",
       "    <tr>\n",
       "      <th>...</th>\n",
       "      <td>...</td>\n",
       "      <td>...</td>\n",
       "      <td>...</td>\n",
       "      <td>...</td>\n",
       "      <td>...</td>\n",
       "      <td>...</td>\n",
       "      <td>...</td>\n",
       "      <td>...</td>\n",
       "    </tr>\n",
       "    <tr>\n",
       "      <th>226</th>\n",
       "      <td>227</td>\n",
       "      <td>Diamond Princess</td>\n",
       "      <td>712</td>\n",
       "      <td>13</td>\n",
       "      <td>699</td>\n",
       "      <td>0</td>\n",
       "      <td>NaN</td>\n",
       "      <td>NaN</td>\n",
       "    </tr>\n",
       "    <tr>\n",
       "      <th>227</th>\n",
       "      <td>228</td>\n",
       "      <td>Vatican City</td>\n",
       "      <td>29</td>\n",
       "      <td>0</td>\n",
       "      <td>29</td>\n",
       "      <td>0</td>\n",
       "      <td>NaN</td>\n",
       "      <td>799</td>\n",
       "    </tr>\n",
       "    <tr>\n",
       "      <th>228</th>\n",
       "      <td>229</td>\n",
       "      <td>Western Sahara</td>\n",
       "      <td>10</td>\n",
       "      <td>1</td>\n",
       "      <td>9</td>\n",
       "      <td>0</td>\n",
       "      <td>NaN</td>\n",
       "      <td>626,161</td>\n",
       "    </tr>\n",
       "    <tr>\n",
       "      <th>229</th>\n",
       "      <td>230</td>\n",
       "      <td>MS Zaandam</td>\n",
       "      <td>9</td>\n",
       "      <td>2</td>\n",
       "      <td>7</td>\n",
       "      <td>0</td>\n",
       "      <td>NaN</td>\n",
       "      <td>NaN</td>\n",
       "    </tr>\n",
       "    <tr>\n",
       "      <th>230</th>\n",
       "      <td>231</td>\n",
       "      <td>Tokelau</td>\n",
       "      <td>5</td>\n",
       "      <td>0</td>\n",
       "      <td>NaN</td>\n",
       "      <td>5</td>\n",
       "      <td>NaN</td>\n",
       "      <td>1,378</td>\n",
       "    </tr>\n",
       "  </tbody>\n",
       "</table>\n",
       "<p>231 rows × 8 columns</p>\n",
       "</div>"
      ],
      "text/plain": [
       "     Serial Number           Country  Total Cases Total Deaths  \\\n",
       "0                1               USA  104,196,861    1,132,935   \n",
       "1                2             India   44,682,784      530,740   \n",
       "2                3            France   39,524,311      164,233   \n",
       "3                4           Germany   37,779,833      165,711   \n",
       "4                5            Brazil   36,824,580      697,074   \n",
       "..             ...               ...          ...          ...   \n",
       "226            227  Diamond Princess          712           13   \n",
       "227            228      Vatican City           29            0   \n",
       "228            229    Western Sahara           10            1   \n",
       "229            230        MS Zaandam            9            2   \n",
       "230            231           Tokelau            5            0   \n",
       "\n",
       "    Total Recovered Active Cases     Total Test     Population  \n",
       "0       101,322,779    1,741,147  1,159,832,679    334,805,269  \n",
       "1        44,150,289        1,755    915,265,788  1,406,631,776  \n",
       "2        39,264,546       95,532    271,490,188     65,584,518  \n",
       "3        37,398,100      216,022    122,332,384     83,883,596  \n",
       "4        35,919,372      208,134     63,776,166    215,353,593  \n",
       "..              ...          ...            ...            ...  \n",
       "226             699            0            NaN            NaN  \n",
       "227              29            0            NaN            799  \n",
       "228               9            0            NaN        626,161  \n",
       "229               7            0            NaN            NaN  \n",
       "230             NaN            5            NaN          1,378  \n",
       "\n",
       "[231 rows x 8 columns]"
      ]
     },
     "execution_count": 9,
     "metadata": {},
     "output_type": "execute_result"
    }
   ],
   "source": [
    "DS1"
   ]
  },
  {
   "cell_type": "markdown",
   "id": "7ee1cf11",
   "metadata": {},
   "source": [
    "# Changing the Possible Dataype"
   ]
  },
  {
   "cell_type": "code",
   "execution_count": 10,
   "id": "9dacc05f",
   "metadata": {},
   "outputs": [],
   "source": [
    "# Changing the Datatype of Total Cases to Int\n",
    "\n",
    "DS1[\"Total Cases\"]=DS1[\"Total Cases\"].str.replace(\",\",\"\")\n",
    "DS1[\"Total Cases\"]=DS1[\"Total Cases\"].astype(int)"
   ]
  },
  {
   "cell_type": "code",
   "execution_count": 11,
   "id": "5eb02a84",
   "metadata": {},
   "outputs": [],
   "source": [
    "# Changing the Datatype of Total Deaths into Int  \n",
    "\n",
    "DS1[\"Total Deaths\"]=DS1[\"Total Deaths\"].str.replace(\",\",\"\")\n",
    "DS1[\"Total Deaths\"]=DS1[\"Total Deaths\"].fillna(0)\n",
    "DS1[\"Total Deaths\"]=DS1[\"Total Deaths\"].astype(int)"
   ]
  },
  {
   "cell_type": "code",
   "execution_count": 12,
   "id": "dddaeaa6",
   "metadata": {},
   "outputs": [
    {
     "name": "stdout",
     "output_type": "stream",
     "text": [
      "<class 'pandas.core.frame.DataFrame'>\n",
      "RangeIndex: 231 entries, 0 to 230\n",
      "Data columns (total 8 columns):\n",
      " #   Column           Non-Null Count  Dtype \n",
      "---  ------           --------------  ----- \n",
      " 0   Serial Number    231 non-null    int64 \n",
      " 1   Country          231 non-null    object\n",
      " 2   Total Cases      231 non-null    int32 \n",
      " 3   Total Deaths     231 non-null    int32 \n",
      " 4   Total Recovered  210 non-null    object\n",
      " 5   Active Cases     212 non-null    object\n",
      " 6   Total Test       213 non-null    object\n",
      " 7   Population       228 non-null    object\n",
      "dtypes: int32(2), int64(1), object(5)\n",
      "memory usage: 12.8+ KB\n"
     ]
    }
   ],
   "source": [
    "DS1.info()"
   ]
  },
  {
   "cell_type": "code",
   "execution_count": 13,
   "id": "0490bc1e",
   "metadata": {},
   "outputs": [],
   "source": [
    "# Further Changes in Datatypes take place according to the arguments.  "
   ]
  },
  {
   "cell_type": "markdown",
   "id": "965008b6",
   "metadata": {},
   "source": [
    "# Arguments "
   ]
  },
  {
   "cell_type": "markdown",
   "id": "a7661354",
   "metadata": {},
   "source": [
    "#  Countries having Maximum number of Covid Cases "
   ]
  },
  {
   "cell_type": "code",
   "execution_count": 14,
   "id": "242b9e4e",
   "metadata": {},
   "outputs": [
    {
     "data": {
      "text/html": [
       "<div>\n",
       "<style scoped>\n",
       "    .dataframe tbody tr th:only-of-type {\n",
       "        vertical-align: middle;\n",
       "    }\n",
       "\n",
       "    .dataframe tbody tr th {\n",
       "        vertical-align: top;\n",
       "    }\n",
       "\n",
       "    .dataframe thead th {\n",
       "        text-align: right;\n",
       "    }\n",
       "</style>\n",
       "<table border=\"1\" class=\"dataframe\">\n",
       "  <thead>\n",
       "    <tr style=\"text-align: right;\">\n",
       "      <th></th>\n",
       "      <th>Serial Number</th>\n",
       "      <th>Country</th>\n",
       "      <th>Total Cases</th>\n",
       "      <th>Total Deaths</th>\n",
       "      <th>Total Recovered</th>\n",
       "      <th>Active Cases</th>\n",
       "      <th>Total Test</th>\n",
       "      <th>Population</th>\n",
       "    </tr>\n",
       "  </thead>\n",
       "  <tbody>\n",
       "    <tr>\n",
       "      <th>0</th>\n",
       "      <td>1</td>\n",
       "      <td>USA</td>\n",
       "      <td>104196861</td>\n",
       "      <td>1132935</td>\n",
       "      <td>101,322,779</td>\n",
       "      <td>1,741,147</td>\n",
       "      <td>1,159,832,679</td>\n",
       "      <td>334,805,269</td>\n",
       "    </tr>\n",
       "    <tr>\n",
       "      <th>1</th>\n",
       "      <td>2</td>\n",
       "      <td>India</td>\n",
       "      <td>44682784</td>\n",
       "      <td>530740</td>\n",
       "      <td>44,150,289</td>\n",
       "      <td>1,755</td>\n",
       "      <td>915,265,788</td>\n",
       "      <td>1,406,631,776</td>\n",
       "    </tr>\n",
       "    <tr>\n",
       "      <th>2</th>\n",
       "      <td>3</td>\n",
       "      <td>France</td>\n",
       "      <td>39524311</td>\n",
       "      <td>164233</td>\n",
       "      <td>39,264,546</td>\n",
       "      <td>95,532</td>\n",
       "      <td>271,490,188</td>\n",
       "      <td>65,584,518</td>\n",
       "    </tr>\n",
       "    <tr>\n",
       "      <th>3</th>\n",
       "      <td>4</td>\n",
       "      <td>Germany</td>\n",
       "      <td>37779833</td>\n",
       "      <td>165711</td>\n",
       "      <td>37,398,100</td>\n",
       "      <td>216,022</td>\n",
       "      <td>122,332,384</td>\n",
       "      <td>83,883,596</td>\n",
       "    </tr>\n",
       "    <tr>\n",
       "      <th>4</th>\n",
       "      <td>5</td>\n",
       "      <td>Brazil</td>\n",
       "      <td>36824580</td>\n",
       "      <td>697074</td>\n",
       "      <td>35,919,372</td>\n",
       "      <td>208,134</td>\n",
       "      <td>63,776,166</td>\n",
       "      <td>215,353,593</td>\n",
       "    </tr>\n",
       "  </tbody>\n",
       "</table>\n",
       "</div>"
      ],
      "text/plain": [
       "   Serial Number  Country  Total Cases  Total Deaths Total Recovered  \\\n",
       "0              1      USA    104196861       1132935     101,322,779   \n",
       "1              2    India     44682784        530740      44,150,289   \n",
       "2              3   France     39524311        164233      39,264,546   \n",
       "3              4  Germany     37779833        165711      37,398,100   \n",
       "4              5   Brazil     36824580        697074      35,919,372   \n",
       "\n",
       "  Active Cases     Total Test     Population  \n",
       "0    1,741,147  1,159,832,679    334,805,269  \n",
       "1        1,755    915,265,788  1,406,631,776  \n",
       "2       95,532    271,490,188     65,584,518  \n",
       "3      216,022    122,332,384     83,883,596  \n",
       "4      208,134     63,776,166    215,353,593  "
      ]
     },
     "execution_count": 14,
     "metadata": {},
     "output_type": "execute_result"
    }
   ],
   "source": [
    "A = DS1.sort_values([\"Total Cases\"],ascending=False).head()\n",
    "A"
   ]
  },
  {
   "cell_type": "code",
   "execution_count": 15,
   "id": "19836965",
   "metadata": {},
   "outputs": [
    {
     "data": {
      "text/plain": [
       "<function matplotlib.pyplot.plot(*args, scalex=True, scaley=True, data=None, **kwargs)>"
      ]
     },
     "execution_count": 15,
     "metadata": {},
     "output_type": "execute_result"
    },
    {
     "data": {
      "image/png": "[encoded data removed]",
      "text/plain": [
       "<Figure size 1080x360 with 1 Axes>"
      ]
     },
     "metadata": {
      "needs_background": "light"
     },
     "output_type": "display_data"
    }
   ],
   "source": [
    "plt.figure(figsize=(15,5))\n",
    "plt.text(0,104196861,\"10,41,96,861\",bbox=dict(facecolor=\"white\"))\n",
    "plt.text(1,44682784,\"4,46,82,784\",bbox=dict(facecolor=\"white\"))\n",
    "plt.text(2,39524311,\"3,95,24,311\",bbox=dict(facecolor=\"white\"))\n",
    "plt.text(3,37779833,\"3,77,79,833\",bbox=dict(facecolor=\"white\"))\n",
    "plt.text(4,36824580,\"3,68,24,580\",bbox=dict(facecolor=\"white\"))\n",
    "sns.barplot(x=\"Country\",y=\"Total Cases\",data=A,label=\"Maximum_Number_of_CovidCases\")\n",
    "plt.legend()\n",
    "sns.despine()\n",
    "plt.plot"
   ]
  },
  {
   "cell_type": "markdown",
   "id": "87fde85d",
   "metadata": {},
   "source": [
    "# Countries having Minimum number of Covid Cases"
   ]
  },
  {
   "cell_type": "code",
   "execution_count": 16,
   "id": "ecbe4814",
   "metadata": {},
   "outputs": [
    {
     "data": {
      "text/html": [
       "<div>\n",
       "<style scoped>\n",
       "    .dataframe tbody tr th:only-of-type {\n",
       "        vertical-align: middle;\n",
       "    }\n",
       "\n",
       "    .dataframe tbody tr th {\n",
       "        vertical-align: top;\n",
       "    }\n",
       "\n",
       "    .dataframe thead th {\n",
       "        text-align: right;\n",
       "    }\n",
       "</style>\n",
       "<table border=\"1\" class=\"dataframe\">\n",
       "  <thead>\n",
       "    <tr style=\"text-align: right;\">\n",
       "      <th></th>\n",
       "      <th>Serial Number</th>\n",
       "      <th>Country</th>\n",
       "      <th>Total Cases</th>\n",
       "      <th>Total Deaths</th>\n",
       "      <th>Total Recovered</th>\n",
       "      <th>Active Cases</th>\n",
       "      <th>Total Test</th>\n",
       "      <th>Population</th>\n",
       "    </tr>\n",
       "  </thead>\n",
       "  <tbody>\n",
       "    <tr>\n",
       "      <th>230</th>\n",
       "      <td>231</td>\n",
       "      <td>Tokelau</td>\n",
       "      <td>5</td>\n",
       "      <td>0</td>\n",
       "      <td>NaN</td>\n",
       "      <td>5</td>\n",
       "      <td>NaN</td>\n",
       "      <td>1,378</td>\n",
       "    </tr>\n",
       "    <tr>\n",
       "      <th>229</th>\n",
       "      <td>230</td>\n",
       "      <td>MS Zaandam</td>\n",
       "      <td>9</td>\n",
       "      <td>2</td>\n",
       "      <td>7</td>\n",
       "      <td>0</td>\n",
       "      <td>NaN</td>\n",
       "      <td>NaN</td>\n",
       "    </tr>\n",
       "    <tr>\n",
       "      <th>228</th>\n",
       "      <td>229</td>\n",
       "      <td>Western Sahara</td>\n",
       "      <td>10</td>\n",
       "      <td>1</td>\n",
       "      <td>9</td>\n",
       "      <td>0</td>\n",
       "      <td>NaN</td>\n",
       "      <td>626,161</td>\n",
       "    </tr>\n",
       "    <tr>\n",
       "      <th>227</th>\n",
       "      <td>228</td>\n",
       "      <td>Vatican City</td>\n",
       "      <td>29</td>\n",
       "      <td>0</td>\n",
       "      <td>29</td>\n",
       "      <td>0</td>\n",
       "      <td>NaN</td>\n",
       "      <td>799</td>\n",
       "    </tr>\n",
       "    <tr>\n",
       "      <th>226</th>\n",
       "      <td>227</td>\n",
       "      <td>Diamond Princess</td>\n",
       "      <td>712</td>\n",
       "      <td>13</td>\n",
       "      <td>699</td>\n",
       "      <td>0</td>\n",
       "      <td>NaN</td>\n",
       "      <td>NaN</td>\n",
       "    </tr>\n",
       "  </tbody>\n",
       "</table>\n",
       "</div>"
      ],
      "text/plain": [
       "     Serial Number           Country  Total Cases  Total Deaths  \\\n",
       "230            231           Tokelau            5             0   \n",
       "229            230        MS Zaandam            9             2   \n",
       "228            229    Western Sahara           10             1   \n",
       "227            228      Vatican City           29             0   \n",
       "226            227  Diamond Princess          712            13   \n",
       "\n",
       "    Total Recovered Active Cases Total Test Population  \n",
       "230             NaN            5        NaN      1,378  \n",
       "229               7            0        NaN        NaN  \n",
       "228               9            0        NaN    626,161  \n",
       "227              29            0        NaN        799  \n",
       "226             699            0        NaN        NaN  "
      ]
     },
     "execution_count": 16,
     "metadata": {},
     "output_type": "execute_result"
    }
   ],
   "source": [
    "B = DS1.sort_values([\"Total Cases\"],ascending=True).head()\n",
    "B"
   ]
  },
  {
   "cell_type": "code",
   "execution_count": 17,
   "id": "65826810",
   "metadata": {},
   "outputs": [
    {
     "data": {
      "text/plain": [
       "<function matplotlib.pyplot.plot(*args, scalex=True, scaley=True, data=None, **kwargs)>"
      ]
     },
     "execution_count": 17,
     "metadata": {},
     "output_type": "execute_result"
    },
    {
     "data": {
      "image/png": "[encoded data removed]",
      "text/plain": [
       "<Figure size 1080x360 with 1 Axes>"
      ]
     },
     "metadata": {
      "needs_background": "light"
     },
     "output_type": "display_data"
    }
   ],
   "source": [
    "plt.figure(figsize=(15,5))\n",
    "plt.text(0,5,\"5\",bbox=dict(facecolor=\"white\"))\n",
    "plt.text(1,9,\"9\",bbox=dict(facecolor=\"white\"))\n",
    "plt.text(2,10,\"10\",bbox=dict(facecolor=\"white\"))\n",
    "plt.text(3,29,\"29\",bbox=dict(facecolor=\"white\"))\n",
    "plt.text(4,712,\"712\",bbox=dict(facecolor=\"white\"))\n",
    "sns.barplot(x=\"Country\",y=\"Total Cases\",data=B,label=\"Minimum_Number_of_CovidCases\")\n",
    "plt.legend()\n",
    "sns.despine()\n",
    "plt.plot"
   ]
  },
  {
   "cell_type": "markdown",
   "id": "9dc14fd3",
   "metadata": {},
   "source": [
    "# Country Having Maximum % of Covid Cases with respect to their own Population / Countries that got affected the most with respect to their population"
   ]
  },
  {
   "cell_type": "code",
   "execution_count": 18,
   "id": "54377479",
   "metadata": {},
   "outputs": [
    {
     "data": {
      "text/html": [
       "<div>\n",
       "<style scoped>\n",
       "    .dataframe tbody tr th:only-of-type {\n",
       "        vertical-align: middle;\n",
       "    }\n",
       "\n",
       "    .dataframe tbody tr th {\n",
       "        vertical-align: top;\n",
       "    }\n",
       "\n",
       "    .dataframe thead th {\n",
       "        text-align: right;\n",
       "    }\n",
       "</style>\n",
       "<table border=\"1\" class=\"dataframe\">\n",
       "  <thead>\n",
       "    <tr style=\"text-align: right;\">\n",
       "      <th></th>\n",
       "      <th>Country</th>\n",
       "      <th>Total Cases</th>\n",
       "      <th>Population</th>\n",
       "    </tr>\n",
       "  </thead>\n",
       "  <tbody>\n",
       "    <tr>\n",
       "      <th>0</th>\n",
       "      <td>USA</td>\n",
       "      <td>104196861</td>\n",
       "      <td>334,805,269</td>\n",
       "    </tr>\n",
       "    <tr>\n",
       "      <th>1</th>\n",
       "      <td>India</td>\n",
       "      <td>44682784</td>\n",
       "      <td>1,406,631,776</td>\n",
       "    </tr>\n",
       "    <tr>\n",
       "      <th>2</th>\n",
       "      <td>France</td>\n",
       "      <td>39524311</td>\n",
       "      <td>65,584,518</td>\n",
       "    </tr>\n",
       "    <tr>\n",
       "      <th>3</th>\n",
       "      <td>Germany</td>\n",
       "      <td>37779833</td>\n",
       "      <td>83,883,596</td>\n",
       "    </tr>\n",
       "    <tr>\n",
       "      <th>4</th>\n",
       "      <td>Brazil</td>\n",
       "      <td>36824580</td>\n",
       "      <td>215,353,593</td>\n",
       "    </tr>\n",
       "    <tr>\n",
       "      <th>...</th>\n",
       "      <td>...</td>\n",
       "      <td>...</td>\n",
       "      <td>...</td>\n",
       "    </tr>\n",
       "    <tr>\n",
       "      <th>226</th>\n",
       "      <td>Diamond Princess</td>\n",
       "      <td>712</td>\n",
       "      <td>NaN</td>\n",
       "    </tr>\n",
       "    <tr>\n",
       "      <th>227</th>\n",
       "      <td>Vatican City</td>\n",
       "      <td>29</td>\n",
       "      <td>799</td>\n",
       "    </tr>\n",
       "    <tr>\n",
       "      <th>228</th>\n",
       "      <td>Western Sahara</td>\n",
       "      <td>10</td>\n",
       "      <td>626,161</td>\n",
       "    </tr>\n",
       "    <tr>\n",
       "      <th>229</th>\n",
       "      <td>MS Zaandam</td>\n",
       "      <td>9</td>\n",
       "      <td>NaN</td>\n",
       "    </tr>\n",
       "    <tr>\n",
       "      <th>230</th>\n",
       "      <td>Tokelau</td>\n",
       "      <td>5</td>\n",
       "      <td>1,378</td>\n",
       "    </tr>\n",
       "  </tbody>\n",
       "</table>\n",
       "<p>231 rows × 3 columns</p>\n",
       "</div>"
      ],
      "text/plain": [
       "              Country  Total Cases     Population\n",
       "0                 USA    104196861    334,805,269\n",
       "1               India     44682784  1,406,631,776\n",
       "2              France     39524311     65,584,518\n",
       "3             Germany     37779833     83,883,596\n",
       "4              Brazil     36824580    215,353,593\n",
       "..                ...          ...            ...\n",
       "226  Diamond Princess          712            NaN\n",
       "227      Vatican City           29            799\n",
       "228    Western Sahara           10        626,161\n",
       "229        MS Zaandam            9            NaN\n",
       "230           Tokelau            5          1,378\n",
       "\n",
       "[231 rows x 3 columns]"
      ]
     },
     "execution_count": 18,
     "metadata": {},
     "output_type": "execute_result"
    }
   ],
   "source": [
    "C = DS1.loc[:,[\"Country\",\"Total Cases\",\"Population\"]]\n",
    "C"
   ]
  },
  {
   "cell_type": "code",
   "execution_count": 19,
   "id": "06a76eed",
   "metadata": {},
   "outputs": [],
   "source": [
    "# Droping NULL VALUES from Dataset C \n",
    "C=C.dropna()"
   ]
  },
  {
   "cell_type": "code",
   "execution_count": 20,
   "id": "f6bf98a0",
   "metadata": {},
   "outputs": [
    {
     "name": "stderr",
     "output_type": "stream",
     "text": [
      "C:\\Users\\HP\\AppData\\Local\\Temp\\ipykernel_18972\\3787902924.py:2: SettingWithCopyWarning: \n",
      "A value is trying to be set on a copy of a slice from a DataFrame.\n",
      "Try using .loc[row_indexer,col_indexer] = value instead\n",
      "\n",
      "See the caveats in the documentation: https://pandas.pydata.org/pandas-docs/stable/user_guide/indexing.html#returning-a-view-versus-a-copy\n",
      "  C[\"Population\"]=C[\"Population\"].str.replace(\",\",\"\")\n",
      "C:\\Users\\HP\\AppData\\Local\\Temp\\ipykernel_18972\\3787902924.py:3: SettingWithCopyWarning: \n",
      "A value is trying to be set on a copy of a slice from a DataFrame.\n",
      "Try using .loc[row_indexer,col_indexer] = value instead\n",
      "\n",
      "See the caveats in the documentation: https://pandas.pydata.org/pandas-docs/stable/user_guide/indexing.html#returning-a-view-versus-a-copy\n",
      "  C[\"Population\"]=C[\"Population\"].astype(int)\n"
     ]
    }
   ],
   "source": [
    "# Changing the dataype of Population to int in order to perform Calculation\n",
    "C[\"Population\"]=C[\"Population\"].str.replace(\",\",\"\")\n",
    "C[\"Population\"]=C[\"Population\"].astype(int)"
   ]
  },
  {
   "cell_type": "code",
   "execution_count": 21,
   "id": "19730578",
   "metadata": {},
   "outputs": [
    {
     "name": "stderr",
     "output_type": "stream",
     "text": [
      "C:\\Users\\HP\\AppData\\Local\\Temp\\ipykernel_18972\\3789956146.py:1: SettingWithCopyWarning: \n",
      "A value is trying to be set on a copy of a slice from a DataFrame.\n",
      "Try using .loc[row_indexer,col_indexer] = value instead\n",
      "\n",
      "See the caveats in the documentation: https://pandas.pydata.org/pandas-docs/stable/user_guide/indexing.html#returning-a-view-versus-a-copy\n",
      "  C[\"Affected_Population_Percentage\"]=C[\"Total Cases\"]/C[\"Population\"] * 100\n"
     ]
    }
   ],
   "source": [
    "C[\"Affected_Population_Percentage\"]=C[\"Total Cases\"]/C[\"Population\"] * 100"
   ]
  },
  {
   "cell_type": "code",
   "execution_count": 22,
   "id": "1d77b60c",
   "metadata": {},
   "outputs": [
    {
     "data": {
      "text/html": [
       "<div>\n",
       "<style scoped>\n",
       "    .dataframe tbody tr th:only-of-type {\n",
       "        vertical-align: middle;\n",
       "    }\n",
       "\n",
       "    .dataframe tbody tr th {\n",
       "        vertical-align: top;\n",
       "    }\n",
       "\n",
       "    .dataframe thead th {\n",
       "        text-align: right;\n",
       "    }\n",
       "</style>\n",
       "<table border=\"1\" class=\"dataframe\">\n",
       "  <thead>\n",
       "    <tr style=\"text-align: right;\">\n",
       "      <th></th>\n",
       "      <th>Country</th>\n",
       "      <th>Total Cases</th>\n",
       "      <th>Population</th>\n",
       "      <th>Affected_Population_Percentage</th>\n",
       "    </tr>\n",
       "  </thead>\n",
       "  <tbody>\n",
       "    <tr>\n",
       "      <th>164</th>\n",
       "      <td>Faeroe Islands</td>\n",
       "      <td>34658</td>\n",
       "      <td>49233</td>\n",
       "      <td>70.395873</td>\n",
       "    </tr>\n",
       "    <tr>\n",
       "      <th>173</th>\n",
       "      <td>San Marino</td>\n",
       "      <td>23427</td>\n",
       "      <td>34085</td>\n",
       "      <td>68.731113</td>\n",
       "    </tr>\n",
       "    <tr>\n",
       "      <th>22</th>\n",
       "      <td>Austria</td>\n",
       "      <td>5780229</td>\n",
       "      <td>9066710</td>\n",
       "      <td>63.752221</td>\n",
       "    </tr>\n",
       "    <tr>\n",
       "      <th>56</th>\n",
       "      <td>Slovenia</td>\n",
       "      <td>1321852</td>\n",
       "      <td>2078034</td>\n",
       "      <td>63.610701</td>\n",
       "    </tr>\n",
       "    <tr>\n",
       "      <th>105</th>\n",
       "      <td>Brunei</td>\n",
       "      <td>275220</td>\n",
       "      <td>445431</td>\n",
       "      <td>61.787348</td>\n",
       "    </tr>\n",
       "  </tbody>\n",
       "</table>\n",
       "</div>"
      ],
      "text/plain": [
       "            Country  Total Cases  Population  Affected_Population_Percentage\n",
       "164  Faeroe Islands        34658       49233                       70.395873\n",
       "173      San Marino        23427       34085                       68.731113\n",
       "22          Austria      5780229     9066710                       63.752221\n",
       "56         Slovenia      1321852     2078034                       63.610701\n",
       "105          Brunei       275220      445431                       61.787348"
      ]
     },
     "execution_count": 22,
     "metadata": {},
     "output_type": "execute_result"
    }
   ],
   "source": [
    "D=C.sort_values([\"Affected_Population_Percentage\"],ascending=False).head()\n",
    "D"
   ]
  },
  {
   "cell_type": "code",
   "execution_count": 23,
   "id": "687ede0d",
   "metadata": {},
   "outputs": [
    {
     "data": {
      "text/plain": [
       "<function matplotlib.pyplot.plot(*args, scalex=True, scaley=True, data=None, **kwargs)>"
      ]
     },
     "execution_count": 23,
     "metadata": {},
     "output_type": "execute_result"
    },
    {
     "data": {
      "image/png": "[encoded data removed]",
      "text/plain": [
       "<Figure size 1080x360 with 1 Axes>"
      ]
     },
     "metadata": {
      "needs_background": "light"
     },
     "output_type": "display_data"
    }
   ],
   "source": [
    "plt.figure(figsize=(15,5))\n",
    "plt.text(0,70.395873,\"70.395873%\",bbox=dict(facecolor=\"white\"))\n",
    "plt.text(1,68.731113,\"68.731113%\",bbox=dict(facecolor=\"white\"))\n",
    "plt.text(2,63.752221,\"63.752221%\",bbox=dict(facecolor=\"white\"))\n",
    "plt.text(3,63.610701,\"63.610701%\",bbox=dict(facecolor=\"white\"))\n",
    "plt.text(4,61.787348,\"61.787348%\",bbox=dict(facecolor=\"white\"))\n",
    "sns.barplot(x=\"Country\",y=\"Affected_Population_Percentage\",data=D,label=\"Max_Population%_Covid +ve\")\n",
    "plt.legend()\n",
    "sns.despine()\n",
    "plt.plot"
   ]
  },
  {
   "cell_type": "markdown",
   "id": "4c5ab519",
   "metadata": {},
   "source": [
    "# Country Having Minimum % of Covid Cases with respect to their own Population / Countries that got affected the least with respect to their population"
   ]
  },
  {
   "cell_type": "code",
   "execution_count": 24,
   "id": "3d082513",
   "metadata": {},
   "outputs": [
    {
     "data": {
      "text/html": [
       "<div>\n",
       "<style scoped>\n",
       "    .dataframe tbody tr th:only-of-type {\n",
       "        vertical-align: middle;\n",
       "    }\n",
       "\n",
       "    .dataframe tbody tr th {\n",
       "        vertical-align: top;\n",
       "    }\n",
       "\n",
       "    .dataframe thead th {\n",
       "        text-align: right;\n",
       "    }\n",
       "</style>\n",
       "<table border=\"1\" class=\"dataframe\">\n",
       "  <thead>\n",
       "    <tr style=\"text-align: right;\">\n",
       "      <th></th>\n",
       "      <th>Country</th>\n",
       "      <th>Total Cases</th>\n",
       "      <th>Population</th>\n",
       "      <th>Affected_Population_Percentage</th>\n",
       "    </tr>\n",
       "  </thead>\n",
       "  <tbody>\n",
       "    <tr>\n",
       "      <th>228</th>\n",
       "      <td>Western Sahara</td>\n",
       "      <td>10</td>\n",
       "      <td>626161</td>\n",
       "      <td>0.001597</td>\n",
       "    </tr>\n",
       "    <tr>\n",
       "      <th>200</th>\n",
       "      <td>Niger</td>\n",
       "      <td>9931</td>\n",
       "      <td>26083660</td>\n",
       "      <td>0.038074</td>\n",
       "    </tr>\n",
       "    <tr>\n",
       "      <th>196</th>\n",
       "      <td>Yemen</td>\n",
       "      <td>11945</td>\n",
       "      <td>31154867</td>\n",
       "      <td>0.038341</td>\n",
       "    </tr>\n",
       "    <tr>\n",
       "      <th>207</th>\n",
       "      <td>Chad</td>\n",
       "      <td>7652</td>\n",
       "      <td>17413580</td>\n",
       "      <td>0.043943</td>\n",
       "    </tr>\n",
       "    <tr>\n",
       "      <th>156</th>\n",
       "      <td>Tanzania</td>\n",
       "      <td>42664</td>\n",
       "      <td>63298550</td>\n",
       "      <td>0.067401</td>\n",
       "    </tr>\n",
       "  </tbody>\n",
       "</table>\n",
       "</div>"
      ],
      "text/plain": [
       "            Country  Total Cases  Population  Affected_Population_Percentage\n",
       "228  Western Sahara           10      626161                        0.001597\n",
       "200           Niger         9931    26083660                        0.038074\n",
       "196           Yemen        11945    31154867                        0.038341\n",
       "207            Chad         7652    17413580                        0.043943\n",
       "156        Tanzania        42664    63298550                        0.067401"
      ]
     },
     "execution_count": 24,
     "metadata": {},
     "output_type": "execute_result"
    }
   ],
   "source": [
    "E=C.sort_values([\"Affected_Population_Percentage\"],ascending=True).head()\n",
    "E"
   ]
  },
  {
   "cell_type": "code",
   "execution_count": 25,
   "id": "67a3abb8",
   "metadata": {},
   "outputs": [
    {
     "data": {
      "text/plain": [
       "<function matplotlib.pyplot.plot(*args, scalex=True, scaley=True, data=None, **kwargs)>"
      ]
     },
     "execution_count": 25,
     "metadata": {},
     "output_type": "execute_result"
    },
    {
     "data": {
      "image/png": "[encoded data removed]",
      "text/plain": [
       "<Figure size 1080x360 with 1 Axes>"
      ]
     },
     "metadata": {
      "needs_background": "light"
     },
     "output_type": "display_data"
    }
   ],
   "source": [
    "plt.figure(figsize=(15,5))\n",
    "plt.text(0,0.001597,\"0.001597%\",bbox=dict(facecolor=\"white\"))\n",
    "plt.text(1,0.038074,\"0.038074%\",bbox=dict(facecolor=\"white\"))\n",
    "plt.text(2,0.038341,\"0.038341%\",bbox=dict(facecolor=\"white\"))\n",
    "plt.text(3,0.043943,\"0.043943%\",bbox=dict(facecolor=\"white\"))\n",
    "plt.text(4,0.067401,\"0.067401%\",bbox=dict(facecolor=\"white\"))\n",
    "sns.barplot(x=\"Country\",y=\"Affected_Population_Percentage\",data=E,label=\"Min_Population%_Covid +ve\")\n",
    "plt.legend()\n",
    "sns.despine()\n",
    "plt.plot"
   ]
  },
  {
   "cell_type": "markdown",
   "id": "0ec19642",
   "metadata": {},
   "source": [
    "#  Countries having Maximum number of Death Cases"
   ]
  },
  {
   "cell_type": "code",
   "execution_count": 26,
   "id": "71576f90",
   "metadata": {},
   "outputs": [
    {
     "data": {
      "text/html": [
       "<div>\n",
       "<style scoped>\n",
       "    .dataframe tbody tr th:only-of-type {\n",
       "        vertical-align: middle;\n",
       "    }\n",
       "\n",
       "    .dataframe tbody tr th {\n",
       "        vertical-align: top;\n",
       "    }\n",
       "\n",
       "    .dataframe thead th {\n",
       "        text-align: right;\n",
       "    }\n",
       "</style>\n",
       "<table border=\"1\" class=\"dataframe\">\n",
       "  <thead>\n",
       "    <tr style=\"text-align: right;\">\n",
       "      <th></th>\n",
       "      <th>Serial Number</th>\n",
       "      <th>Country</th>\n",
       "      <th>Total Cases</th>\n",
       "      <th>Total Deaths</th>\n",
       "      <th>Total Recovered</th>\n",
       "      <th>Active Cases</th>\n",
       "      <th>Total Test</th>\n",
       "      <th>Population</th>\n",
       "    </tr>\n",
       "  </thead>\n",
       "  <tbody>\n",
       "    <tr>\n",
       "      <th>0</th>\n",
       "      <td>1</td>\n",
       "      <td>USA</td>\n",
       "      <td>104196861</td>\n",
       "      <td>1132935</td>\n",
       "      <td>101,322,779</td>\n",
       "      <td>1,741,147</td>\n",
       "      <td>1,159,832,679</td>\n",
       "      <td>334,805,269</td>\n",
       "    </tr>\n",
       "    <tr>\n",
       "      <th>4</th>\n",
       "      <td>5</td>\n",
       "      <td>Brazil</td>\n",
       "      <td>36824580</td>\n",
       "      <td>697074</td>\n",
       "      <td>35,919,372</td>\n",
       "      <td>208,134</td>\n",
       "      <td>63,776,166</td>\n",
       "      <td>215,353,593</td>\n",
       "    </tr>\n",
       "    <tr>\n",
       "      <th>1</th>\n",
       "      <td>2</td>\n",
       "      <td>India</td>\n",
       "      <td>44682784</td>\n",
       "      <td>530740</td>\n",
       "      <td>44,150,289</td>\n",
       "      <td>1,755</td>\n",
       "      <td>915,265,788</td>\n",
       "      <td>1,406,631,776</td>\n",
       "    </tr>\n",
       "    <tr>\n",
       "      <th>9</th>\n",
       "      <td>10</td>\n",
       "      <td>Russia</td>\n",
       "      <td>21958696</td>\n",
       "      <td>395108</td>\n",
       "      <td>21,356,008</td>\n",
       "      <td>207,580</td>\n",
       "      <td>273,400,000</td>\n",
       "      <td>145,805,947</td>\n",
       "    </tr>\n",
       "    <tr>\n",
       "      <th>18</th>\n",
       "      <td>19</td>\n",
       "      <td>Mexico</td>\n",
       "      <td>7368252</td>\n",
       "      <td>332198</td>\n",
       "      <td>6,606,633</td>\n",
       "      <td>429,421</td>\n",
       "      <td>19,356,195</td>\n",
       "      <td>131,562,772</td>\n",
       "    </tr>\n",
       "  </tbody>\n",
       "</table>\n",
       "</div>"
      ],
      "text/plain": [
       "    Serial Number Country  Total Cases  Total Deaths Total Recovered  \\\n",
       "0               1     USA    104196861       1132935     101,322,779   \n",
       "4               5  Brazil     36824580        697074      35,919,372   \n",
       "1               2   India     44682784        530740      44,150,289   \n",
       "9              10  Russia     21958696        395108      21,356,008   \n",
       "18             19  Mexico      7368252        332198       6,606,633   \n",
       "\n",
       "   Active Cases     Total Test     Population  \n",
       "0     1,741,147  1,159,832,679    334,805,269  \n",
       "4       208,134     63,776,166    215,353,593  \n",
       "1         1,755    915,265,788  1,406,631,776  \n",
       "9       207,580    273,400,000    145,805,947  \n",
       "18      429,421     19,356,195    131,562,772  "
      ]
     },
     "execution_count": 26,
     "metadata": {},
     "output_type": "execute_result"
    }
   ],
   "source": [
    "F = DS1.sort_values([\"Total Deaths\"],ascending=False).head()\n",
    "F"
   ]
  },
  {
   "cell_type": "code",
   "execution_count": 27,
   "id": "2f4f197d",
   "metadata": {},
   "outputs": [
    {
     "data": {
      "text/plain": [
       "<function matplotlib.pyplot.plot(*args, scalex=True, scaley=True, data=None, **kwargs)>"
      ]
     },
     "execution_count": 27,
     "metadata": {},
     "output_type": "execute_result"
    },
    {
     "data": {
      "image/png": "[encoded data removed]",
      "text/plain": [
       "<Figure size 1080x360 with 1 Axes>"
      ]
     },
     "metadata": {
      "needs_background": "light"
     },
     "output_type": "display_data"
    }
   ],
   "source": [
    "plt.figure(figsize=(15,5))\n",
    "plt.text(0,1132935,\"1132935\",bbox=dict(facecolor=\"white\"))\n",
    "plt.text(1,697074,\"697074\",bbox=dict(facecolor=\"white\"))\n",
    "plt.text(2,530740,\"530740\",bbox=dict(facecolor=\"white\"))\n",
    "plt.text(3,395108,\"395108\",bbox=dict(facecolor=\"white\"))\n",
    "plt.text(4,332198,\"332198\",bbox=dict(facecolor=\"white\"))\n",
    "sns.barplot(x=\"Country\",y=\"Total Deaths\",data=F,label=\"Maximum Death Cases\")\n",
    "plt.legend()\n",
    "sns.despine()\n",
    "plt.plot"
   ]
  },
  {
   "cell_type": "markdown",
   "id": "c280aae3",
   "metadata": {},
   "source": [
    "# Countries having Minimum number of Death Cases"
   ]
  },
  {
   "cell_type": "code",
   "execution_count": 28,
   "id": "d2245d83",
   "metadata": {},
   "outputs": [],
   "source": [
    "G = DS1.sort_values([\"Total Deaths\"],ascending=True).head(15)"
   ]
  },
  {
   "cell_type": "code",
   "execution_count": 29,
   "id": "703af2e6",
   "metadata": {},
   "outputs": [
    {
     "data": {
      "text/html": [
       "<div>\n",
       "<style scoped>\n",
       "    .dataframe tbody tr th:only-of-type {\n",
       "        vertical-align: middle;\n",
       "    }\n",
       "\n",
       "    .dataframe tbody tr th {\n",
       "        vertical-align: top;\n",
       "    }\n",
       "\n",
       "    .dataframe thead th {\n",
       "        text-align: right;\n",
       "    }\n",
       "</style>\n",
       "<table border=\"1\" class=\"dataframe\">\n",
       "  <thead>\n",
       "    <tr style=\"text-align: right;\">\n",
       "      <th></th>\n",
       "      <th>Country</th>\n",
       "    </tr>\n",
       "    <tr>\n",
       "      <th>Total Deaths</th>\n",
       "      <th></th>\n",
       "    </tr>\n",
       "  </thead>\n",
       "  <tbody>\n",
       "    <tr>\n",
       "      <th>0</th>\n",
       "      <td>6</td>\n",
       "    </tr>\n",
       "    <tr>\n",
       "      <th>1</th>\n",
       "      <td>2</td>\n",
       "    </tr>\n",
       "    <tr>\n",
       "      <th>2</th>\n",
       "      <td>3</td>\n",
       "    </tr>\n",
       "    <tr>\n",
       "      <th>6</th>\n",
       "      <td>1</td>\n",
       "    </tr>\n",
       "    <tr>\n",
       "      <th>7</th>\n",
       "      <td>1</td>\n",
       "    </tr>\n",
       "    <tr>\n",
       "      <th>8</th>\n",
       "      <td>1</td>\n",
       "    </tr>\n",
       "    <tr>\n",
       "      <th>9</th>\n",
       "      <td>1</td>\n",
       "    </tr>\n",
       "  </tbody>\n",
       "</table>\n",
       "</div>"
      ],
      "text/plain": [
       "              Country\n",
       "Total Deaths         \n",
       "0                   6\n",
       "1                   2\n",
       "2                   3\n",
       "6                   1\n",
       "7                   1\n",
       "8                   1\n",
       "9                   1"
      ]
     },
     "execution_count": 29,
     "metadata": {},
     "output_type": "execute_result"
    }
   ],
   "source": [
    "H = G.groupby(\"Total Deaths\").count()\n",
    "I = H.loc[:,[\"Country\"]]\n",
    "I"
   ]
  },
  {
   "cell_type": "code",
   "execution_count": 30,
   "id": "80f39f40",
   "metadata": {},
   "outputs": [
    {
     "name": "stderr",
     "output_type": "stream",
     "text": [
      "No artists with labels found to put in legend.  Note that artists whose label start with an underscore are ignored when legend() is called with no argument.\n"
     ]
    },
    {
     "data": {
      "text/plain": [
       "<function matplotlib.pyplot.plot(*args, scalex=True, scaley=True, data=None, **kwargs)>"
      ]
     },
     "execution_count": 30,
     "metadata": {},
     "output_type": "execute_result"
    },
    {
     "data": {
      "image/png": "[encoded data removed]",
      "text/plain": [
       "<Figure size 1080x360 with 1 Axes>"
      ]
     },
     "metadata": {
      "needs_background": "light"
     },
     "output_type": "display_data"
    }
   ],
   "source": [
    "plt.figure(figsize=(15,5))\n",
    "sns.countplot(x=\"Total Deaths\",data=G)\n",
    "plt.xlabel(\"Number of Deaths\")\n",
    "plt.ylabel(\"Number of Countries\")\n",
    "plt.legend()\n",
    "sns.despine()\n",
    "plt.plot"
   ]
  },
  {
   "cell_type": "markdown",
   "id": "2e44d5e8",
   "metadata": {},
   "source": [
    "Reading of Graph : We can say that their are 6 countries with 0 number of death , 2 countries with total 1 death , 3 countries with total 2 deaths and so on ......... "
   ]
  },
  {
   "cell_type": "markdown",
   "id": "0371bb8b",
   "metadata": {},
   "source": [
    "# Countries having Maximum number of Death% due to Covid "
   ]
  },
  {
   "cell_type": "code",
   "execution_count": 31,
   "id": "5e301d96",
   "metadata": {},
   "outputs": [
    {
     "data": {
      "text/plain": [
       "Country         0\n",
       "Total Cases     0\n",
       "Total Deaths    0\n",
       "Active Cases    0\n",
       "dtype: int64"
      ]
     },
     "execution_count": 31,
     "metadata": {},
     "output_type": "execute_result"
    }
   ],
   "source": [
    "J= DS1.loc[:,[\"Country\",\"Total Cases\",\"Total Deaths\",\"Active Cases\"]]\n",
    "J.dropna(inplace=True)\n",
    "J.isnull().sum()"
   ]
  },
  {
   "cell_type": "code",
   "execution_count": 32,
   "id": "5e5727ac",
   "metadata": {},
   "outputs": [],
   "source": [
    "# Changing the Datatype of \"Active Cases\" in order to perform Calculation\n",
    "J[\"Active Cases\"]=J[\"Active Cases\"].str.replace(\",\",\"\")\n",
    "J[\"Active Cases\"]=J[\"Active Cases\"].astype(int)"
   ]
  },
  {
   "cell_type": "code",
   "execution_count": 33,
   "id": "6333104b",
   "metadata": {},
   "outputs": [
    {
     "data": {
      "text/plain": [
       "Country           0\n",
       "Total Cases       0\n",
       "Total Deaths      0\n",
       "Active Cases      0\n",
       "Inactive Cases    0\n",
       "dtype: int64"
      ]
     },
     "execution_count": 33,
     "metadata": {},
     "output_type": "execute_result"
    }
   ],
   "source": [
    "J[\"Inactive Cases\"]=J[\"Total Cases\"]-J[\"Active Cases\"]\n",
    "\n",
    "J.dropna(inplace=True)\n",
    "J.isnull().sum()"
   ]
  },
  {
   "cell_type": "code",
   "execution_count": 34,
   "id": "8d61205b",
   "metadata": {},
   "outputs": [],
   "source": [
    "J[\"Death Percentage\"]=J[\"Total Deaths\"]/J[\"Inactive Cases\"]*100"
   ]
  },
  {
   "cell_type": "code",
   "execution_count": 35,
   "id": "b270160c",
   "metadata": {},
   "outputs": [
    {
     "data": {
      "text/html": [
       "<div>\n",
       "<style scoped>\n",
       "    .dataframe tbody tr th:only-of-type {\n",
       "        vertical-align: middle;\n",
       "    }\n",
       "\n",
       "    .dataframe tbody tr th {\n",
       "        vertical-align: top;\n",
       "    }\n",
       "\n",
       "    .dataframe thead th {\n",
       "        text-align: right;\n",
       "    }\n",
       "</style>\n",
       "<table border=\"1\" class=\"dataframe\">\n",
       "  <thead>\n",
       "    <tr style=\"text-align: right;\">\n",
       "      <th></th>\n",
       "      <th>Country</th>\n",
       "      <th>Total Cases</th>\n",
       "      <th>Total Deaths</th>\n",
       "      <th>Active Cases</th>\n",
       "      <th>Inactive Cases</th>\n",
       "      <th>Death Percentage</th>\n",
       "    </tr>\n",
       "  </thead>\n",
       "  <tbody>\n",
       "    <tr>\n",
       "      <th>229</th>\n",
       "      <td>MS Zaandam</td>\n",
       "      <td>9</td>\n",
       "      <td>2</td>\n",
       "      <td>0</td>\n",
       "      <td>9</td>\n",
       "      <td>22.222222</td>\n",
       "    </tr>\n",
       "    <tr>\n",
       "      <th>196</th>\n",
       "      <td>Yemen</td>\n",
       "      <td>11945</td>\n",
       "      <td>2159</td>\n",
       "      <td>662</td>\n",
       "      <td>11283</td>\n",
       "      <td>19.134982</td>\n",
       "    </tr>\n",
       "    <tr>\n",
       "      <th>228</th>\n",
       "      <td>Western Sahara</td>\n",
       "      <td>10</td>\n",
       "      <td>1</td>\n",
       "      <td>0</td>\n",
       "      <td>10</td>\n",
       "      <td>10.000000</td>\n",
       "    </tr>\n",
       "    <tr>\n",
       "      <th>170</th>\n",
       "      <td>Somalia</td>\n",
       "      <td>27318</td>\n",
       "      <td>1361</td>\n",
       "      <td>12775</td>\n",
       "      <td>14543</td>\n",
       "      <td>9.358454</td>\n",
       "    </tr>\n",
       "    <tr>\n",
       "      <th>144</th>\n",
       "      <td>Sudan</td>\n",
       "      <td>63742</td>\n",
       "      <td>5001</td>\n",
       "      <td>457</td>\n",
       "      <td>63285</td>\n",
       "      <td>7.902347</td>\n",
       "    </tr>\n",
       "  </tbody>\n",
       "</table>\n",
       "</div>"
      ],
      "text/plain": [
       "            Country  Total Cases  Total Deaths  Active Cases  Inactive Cases  \\\n",
       "229      MS Zaandam            9             2             0               9   \n",
       "196           Yemen        11945          2159           662           11283   \n",
       "228  Western Sahara           10             1             0              10   \n",
       "170         Somalia        27318          1361         12775           14543   \n",
       "144           Sudan        63742          5001           457           63285   \n",
       "\n",
       "     Death Percentage  \n",
       "229         22.222222  \n",
       "196         19.134982  \n",
       "228         10.000000  \n",
       "170          9.358454  \n",
       "144          7.902347  "
      ]
     },
     "execution_count": 35,
     "metadata": {},
     "output_type": "execute_result"
    }
   ],
   "source": [
    "K = J.sort_values([\"Death Percentage\"],ascending=False).head()\n",
    "K"
   ]
  },
  {
   "cell_type": "code",
   "execution_count": 36,
   "id": "fe413fff",
   "metadata": {},
   "outputs": [
    {
     "data": {
      "image/png": "[encoded data removed]",
      "text/plain": [
       "<Figure size 1080x360 with 1 Axes>"
      ]
     },
     "metadata": {
      "needs_background": "light"
     },
     "output_type": "display_data"
    }
   ],
   "source": [
    "plt.figure(figsize=(15,5))\n",
    "plt.text(0.1,22.222222,\"22.222222%\",bbox=dict(facecolor=\"white\"))\n",
    "plt.text(1.1,19.134982,\"19.134982%\",bbox=dict(facecolor=\"white\"))\n",
    "plt.text(2.1,10.000000,\"10%\",bbox=dict(facecolor=\"white\"))\n",
    "plt.text(3.1,9.358454,\"9.358454%\",bbox=dict(facecolor=\"white\"))\n",
    "plt.text(4.1,7.902347,\"7.902347%\",bbox=dict(facecolor=\"white\"))\n",
    "x = K[\"Country\"].unique()\n",
    "y = K[\"Death Percentage\"].unique()\n",
    "plt.stem(x,y,label=\"Death Percentage Out of Total Cases\")\n",
    "plt.xlabel(\"Countries\")\n",
    "plt.ylabel(\"Death Percentage\")\n",
    "plt.legend()\n",
    "sns.despine()\n",
    "plt.show()"
   ]
  },
  {
   "cell_type": "markdown",
   "id": "7a012c28",
   "metadata": {},
   "source": [
    "# Countries having Minimum number of Death% due to Covid "
   ]
  },
  {
   "cell_type": "code",
   "execution_count": 37,
   "id": "ec3c38ea",
   "metadata": {},
   "outputs": [
    {
     "data": {
      "text/html": [
       "<div>\n",
       "<style scoped>\n",
       "    .dataframe tbody tr th:only-of-type {\n",
       "        vertical-align: middle;\n",
       "    }\n",
       "\n",
       "    .dataframe tbody tr th {\n",
       "        vertical-align: top;\n",
       "    }\n",
       "\n",
       "    .dataframe thead th {\n",
       "        text-align: right;\n",
       "    }\n",
       "</style>\n",
       "<table border=\"1\" class=\"dataframe\">\n",
       "  <thead>\n",
       "    <tr style=\"text-align: right;\">\n",
       "      <th></th>\n",
       "      <th>Country</th>\n",
       "      <th>Total Cases</th>\n",
       "      <th>Total Deaths</th>\n",
       "      <th>Active Cases</th>\n",
       "      <th>Inactive Cases</th>\n",
       "      <th>Death Percentage</th>\n",
       "    </tr>\n",
       "  </thead>\n",
       "  <tbody>\n",
       "    <tr>\n",
       "      <th>222</th>\n",
       "      <td>Saint Helena</td>\n",
       "      <td>2166</td>\n",
       "      <td>0</td>\n",
       "      <td>2164</td>\n",
       "      <td>2</td>\n",
       "      <td>0.000000</td>\n",
       "    </tr>\n",
       "    <tr>\n",
       "      <th>223</th>\n",
       "      <td>Falkland Islands</td>\n",
       "      <td>1930</td>\n",
       "      <td>0</td>\n",
       "      <td>0</td>\n",
       "      <td>1930</td>\n",
       "      <td>0.000000</td>\n",
       "    </tr>\n",
       "    <tr>\n",
       "      <th>225</th>\n",
       "      <td>Niue</td>\n",
       "      <td>747</td>\n",
       "      <td>0</td>\n",
       "      <td>1</td>\n",
       "      <td>746</td>\n",
       "      <td>0.000000</td>\n",
       "    </tr>\n",
       "    <tr>\n",
       "      <th>227</th>\n",
       "      <td>Vatican City</td>\n",
       "      <td>29</td>\n",
       "      <td>0</td>\n",
       "      <td>0</td>\n",
       "      <td>29</td>\n",
       "      <td>0.000000</td>\n",
       "    </tr>\n",
       "    <tr>\n",
       "      <th>29</th>\n",
       "      <td>DPRK</td>\n",
       "      <td>4772813</td>\n",
       "      <td>74</td>\n",
       "      <td>0</td>\n",
       "      <td>4772813</td>\n",
       "      <td>0.001550</td>\n",
       "    </tr>\n",
       "    <tr>\n",
       "      <th>...</th>\n",
       "      <td>...</td>\n",
       "      <td>...</td>\n",
       "      <td>...</td>\n",
       "      <td>...</td>\n",
       "      <td>...</td>\n",
       "      <td>...</td>\n",
       "    </tr>\n",
       "    <tr>\n",
       "      <th>228</th>\n",
       "      <td>Western Sahara</td>\n",
       "      <td>10</td>\n",
       "      <td>1</td>\n",
       "      <td>0</td>\n",
       "      <td>10</td>\n",
       "      <td>10.000000</td>\n",
       "    </tr>\n",
       "    <tr>\n",
       "      <th>196</th>\n",
       "      <td>Yemen</td>\n",
       "      <td>11945</td>\n",
       "      <td>2159</td>\n",
       "      <td>662</td>\n",
       "      <td>11283</td>\n",
       "      <td>19.134982</td>\n",
       "    </tr>\n",
       "    <tr>\n",
       "      <th>229</th>\n",
       "      <td>MS Zaandam</td>\n",
       "      <td>9</td>\n",
       "      <td>2</td>\n",
       "      <td>0</td>\n",
       "      <td>9</td>\n",
       "      <td>22.222222</td>\n",
       "    </tr>\n",
       "    <tr>\n",
       "      <th>221</th>\n",
       "      <td>Tuvalu</td>\n",
       "      <td>2805</td>\n",
       "      <td>0</td>\n",
       "      <td>2805</td>\n",
       "      <td>0</td>\n",
       "      <td>NaN</td>\n",
       "    </tr>\n",
       "    <tr>\n",
       "      <th>230</th>\n",
       "      <td>Tokelau</td>\n",
       "      <td>5</td>\n",
       "      <td>0</td>\n",
       "      <td>5</td>\n",
       "      <td>0</td>\n",
       "      <td>NaN</td>\n",
       "    </tr>\n",
       "  </tbody>\n",
       "</table>\n",
       "<p>212 rows × 6 columns</p>\n",
       "</div>"
      ],
      "text/plain": [
       "              Country  Total Cases  Total Deaths  Active Cases  \\\n",
       "222      Saint Helena         2166             0          2164   \n",
       "223  Falkland Islands         1930             0             0   \n",
       "225              Niue          747             0             1   \n",
       "227      Vatican City           29             0             0   \n",
       "29               DPRK      4772813            74             0   \n",
       "..                ...          ...           ...           ...   \n",
       "228    Western Sahara           10             1             0   \n",
       "196             Yemen        11945          2159           662   \n",
       "229        MS Zaandam            9             2             0   \n",
       "221            Tuvalu         2805             0          2805   \n",
       "230           Tokelau            5             0             5   \n",
       "\n",
       "     Inactive Cases  Death Percentage  \n",
       "222               2          0.000000  \n",
       "223            1930          0.000000  \n",
       "225             746          0.000000  \n",
       "227              29          0.000000  \n",
       "29          4772813          0.001550  \n",
       "..              ...               ...  \n",
       "228              10         10.000000  \n",
       "196           11283         19.134982  \n",
       "229               9         22.222222  \n",
       "221               0               NaN  \n",
       "230               0               NaN  \n",
       "\n",
       "[212 rows x 6 columns]"
      ]
     },
     "execution_count": 37,
     "metadata": {},
     "output_type": "execute_result"
    }
   ],
   "source": [
    "L = J.sort_values([\"Death Percentage\"],ascending=True)\n",
    "L.dropna()\n",
    "L.isnull().sum()\n",
    "L"
   ]
  },
  {
   "cell_type": "markdown",
   "id": "9ca3881a",
   "metadata": {},
   "source": [
    "Result : As we can that there are five countries whose Death Percentage is zero , it means that all the people of that country as recovered..."
   ]
  },
  {
   "cell_type": "markdown",
   "id": "4fd62188",
   "metadata": {},
   "source": [
    "# Countries having Maximum number of Recovery% of Covid Cases"
   ]
  },
  {
   "cell_type": "code",
   "execution_count": 38,
   "id": "0069c7a9",
   "metadata": {},
   "outputs": [
    {
     "data": {
      "text/plain": [
       "Country            0\n",
       "Total Cases        0\n",
       "Total Recovered    0\n",
       "Active Cases       0\n",
       "dtype: int64"
      ]
     },
     "execution_count": 38,
     "metadata": {},
     "output_type": "execute_result"
    }
   ],
   "source": [
    "M = DS1.loc[:,[\"Country\",\"Total Cases\",\"Total Recovered\",\"Active Cases\"]]\n",
    "M.dropna(inplace=True)\n",
    "M.isnull().sum()"
   ]
  },
  {
   "cell_type": "code",
   "execution_count": 39,
   "id": "b32ed442",
   "metadata": {},
   "outputs": [],
   "source": [
    "# Changing the Datatype of \"Active Cases\" in order to perform Calculation\n",
    "M[\"Active Cases\"]=M[\"Active Cases\"].str.replace(\",\",\"\")\n",
    "M[\"Active Cases\"]=M[\"Active Cases\"].astype(int)"
   ]
  },
  {
   "cell_type": "code",
   "execution_count": 40,
   "id": "2a720d7d",
   "metadata": {},
   "outputs": [
    {
     "data": {
      "text/plain": [
       "Country            0\n",
       "Total Cases        0\n",
       "Total Recovered    0\n",
       "Active Cases       0\n",
       "Inactive Cases     0\n",
       "dtype: int64"
      ]
     },
     "execution_count": 40,
     "metadata": {},
     "output_type": "execute_result"
    }
   ],
   "source": [
    "M[\"Inactive Cases\"]=M[\"Total Cases\"]-M[\"Active Cases\"]\n",
    "\n",
    "M.isnull().sum()"
   ]
  },
  {
   "cell_type": "code",
   "execution_count": 41,
   "id": "63adda6b",
   "metadata": {},
   "outputs": [],
   "source": [
    "# Changing the Datatype of \"Total Recovered\" in order to perform Calculation\n",
    "M[\"Total Recovered\"]=M[\"Total Recovered\"].str.replace(\",\",\"\")\n",
    "M[\"Total Recovered\"]=M[\"Total Recovered\"].astype(int)"
   ]
  },
  {
   "cell_type": "code",
   "execution_count": 42,
   "id": "7d4dde36",
   "metadata": {},
   "outputs": [],
   "source": [
    "M[\"Recovery Percentage\"]=M[\"Total Recovered\"]/M[\"Inactive Cases\"]*100"
   ]
  },
  {
   "cell_type": "code",
   "execution_count": 43,
   "id": "7b9d940b",
   "metadata": {},
   "outputs": [
    {
     "data": {
      "text/html": [
       "<div>\n",
       "<style scoped>\n",
       "    .dataframe tbody tr th:only-of-type {\n",
       "        vertical-align: middle;\n",
       "    }\n",
       "\n",
       "    .dataframe tbody tr th {\n",
       "        vertical-align: top;\n",
       "    }\n",
       "\n",
       "    .dataframe thead th {\n",
       "        text-align: right;\n",
       "    }\n",
       "</style>\n",
       "<table border=\"1\" class=\"dataframe\">\n",
       "  <thead>\n",
       "    <tr style=\"text-align: right;\">\n",
       "      <th></th>\n",
       "      <th>Country</th>\n",
       "      <th>Total Cases</th>\n",
       "      <th>Total Recovered</th>\n",
       "      <th>Active Cases</th>\n",
       "      <th>Inactive Cases</th>\n",
       "      <th>Recovery Percentage</th>\n",
       "    </tr>\n",
       "  </thead>\n",
       "  <tbody>\n",
       "    <tr>\n",
       "      <th>223</th>\n",
       "      <td>Falkland Islands</td>\n",
       "      <td>1930</td>\n",
       "      <td>1930</td>\n",
       "      <td>0</td>\n",
       "      <td>1930</td>\n",
       "      <td>100.00000</td>\n",
       "    </tr>\n",
       "    <tr>\n",
       "      <th>222</th>\n",
       "      <td>Saint Helena</td>\n",
       "      <td>2166</td>\n",
       "      <td>2</td>\n",
       "      <td>2164</td>\n",
       "      <td>2</td>\n",
       "      <td>100.00000</td>\n",
       "    </tr>\n",
       "    <tr>\n",
       "      <th>225</th>\n",
       "      <td>Niue</td>\n",
       "      <td>747</td>\n",
       "      <td>746</td>\n",
       "      <td>1</td>\n",
       "      <td>746</td>\n",
       "      <td>100.00000</td>\n",
       "    </tr>\n",
       "    <tr>\n",
       "      <th>227</th>\n",
       "      <td>Vatican City</td>\n",
       "      <td>29</td>\n",
       "      <td>29</td>\n",
       "      <td>0</td>\n",
       "      <td>29</td>\n",
       "      <td>100.00000</td>\n",
       "    </tr>\n",
       "    <tr>\n",
       "      <th>29</th>\n",
       "      <td>DPRK</td>\n",
       "      <td>4772813</td>\n",
       "      <td>4772739</td>\n",
       "      <td>0</td>\n",
       "      <td>4772813</td>\n",
       "      <td>99.99845</td>\n",
       "    </tr>\n",
       "  </tbody>\n",
       "</table>\n",
       "</div>"
      ],
      "text/plain": [
       "              Country  Total Cases  Total Recovered  Active Cases  \\\n",
       "223  Falkland Islands         1930             1930             0   \n",
       "222      Saint Helena         2166                2          2164   \n",
       "225              Niue          747              746             1   \n",
       "227      Vatican City           29               29             0   \n",
       "29               DPRK      4772813          4772739             0   \n",
       "\n",
       "     Inactive Cases  Recovery Percentage  \n",
       "223            1930            100.00000  \n",
       "222               2            100.00000  \n",
       "225             746            100.00000  \n",
       "227              29            100.00000  \n",
       "29          4772813             99.99845  "
      ]
     },
     "execution_count": 43,
     "metadata": {},
     "output_type": "execute_result"
    }
   ],
   "source": [
    "N = M.sort_values([\"Recovery Percentage\"],ascending=False).head()\n",
    "N"
   ]
  },
  {
   "cell_type": "markdown",
   "id": "4ca2ab61",
   "metadata": {},
   "source": [
    "Result : We can see that there are 4 countries whose Recovery Percentage is 100% ,indicating the good health facilities of that country"
   ]
  },
  {
   "cell_type": "markdown",
   "id": "765bd4a9",
   "metadata": {},
   "source": [
    "# Countries having Minimum number of Recovery% of Covid Cases"
   ]
  },
  {
   "cell_type": "code",
   "execution_count": 44,
   "id": "51e8fb41",
   "metadata": {},
   "outputs": [
    {
     "data": {
      "text/html": [
       "<div>\n",
       "<style scoped>\n",
       "    .dataframe tbody tr th:only-of-type {\n",
       "        vertical-align: middle;\n",
       "    }\n",
       "\n",
       "    .dataframe tbody tr th {\n",
       "        vertical-align: top;\n",
       "    }\n",
       "\n",
       "    .dataframe thead th {\n",
       "        text-align: right;\n",
       "    }\n",
       "</style>\n",
       "<table border=\"1\" class=\"dataframe\">\n",
       "  <thead>\n",
       "    <tr style=\"text-align: right;\">\n",
       "      <th></th>\n",
       "      <th>Country</th>\n",
       "      <th>Total Cases</th>\n",
       "      <th>Total Recovered</th>\n",
       "      <th>Active Cases</th>\n",
       "      <th>Inactive Cases</th>\n",
       "      <th>Recovery Percentage</th>\n",
       "    </tr>\n",
       "  </thead>\n",
       "  <tbody>\n",
       "    <tr>\n",
       "      <th>229</th>\n",
       "      <td>MS Zaandam</td>\n",
       "      <td>9</td>\n",
       "      <td>7</td>\n",
       "      <td>0</td>\n",
       "      <td>9</td>\n",
       "      <td>77.777778</td>\n",
       "    </tr>\n",
       "    <tr>\n",
       "      <th>196</th>\n",
       "      <td>Yemen</td>\n",
       "      <td>11945</td>\n",
       "      <td>9124</td>\n",
       "      <td>662</td>\n",
       "      <td>11283</td>\n",
       "      <td>80.865018</td>\n",
       "    </tr>\n",
       "    <tr>\n",
       "      <th>228</th>\n",
       "      <td>Western Sahara</td>\n",
       "      <td>10</td>\n",
       "      <td>9</td>\n",
       "      <td>0</td>\n",
       "      <td>10</td>\n",
       "      <td>90.000000</td>\n",
       "    </tr>\n",
       "    <tr>\n",
       "      <th>170</th>\n",
       "      <td>Somalia</td>\n",
       "      <td>27318</td>\n",
       "      <td>13182</td>\n",
       "      <td>12775</td>\n",
       "      <td>14543</td>\n",
       "      <td>90.641546</td>\n",
       "    </tr>\n",
       "    <tr>\n",
       "      <th>144</th>\n",
       "      <td>Sudan</td>\n",
       "      <td>63742</td>\n",
       "      <td>58284</td>\n",
       "      <td>457</td>\n",
       "      <td>63285</td>\n",
       "      <td>92.097653</td>\n",
       "    </tr>\n",
       "  </tbody>\n",
       "</table>\n",
       "</div>"
      ],
      "text/plain": [
       "            Country  Total Cases  Total Recovered  Active Cases  \\\n",
       "229      MS Zaandam            9                7             0   \n",
       "196           Yemen        11945             9124           662   \n",
       "228  Western Sahara           10                9             0   \n",
       "170         Somalia        27318            13182         12775   \n",
       "144           Sudan        63742            58284           457   \n",
       "\n",
       "     Inactive Cases  Recovery Percentage  \n",
       "229               9            77.777778  \n",
       "196           11283            80.865018  \n",
       "228              10            90.000000  \n",
       "170           14543            90.641546  \n",
       "144           63285            92.097653  "
      ]
     },
     "execution_count": 44,
     "metadata": {},
     "output_type": "execute_result"
    }
   ],
   "source": [
    "O = M.sort_values([\"Recovery Percentage\"],ascending=True).head()\n",
    "O"
   ]
  },
  {
   "cell_type": "code",
   "execution_count": 45,
   "id": "d3ea939d",
   "metadata": {},
   "outputs": [
    {
     "data": {
      "image/png": "[encoded data removed]",
      "text/plain": [
       "<Figure size 1080x360 with 1 Axes>"
      ]
     },
     "metadata": {
      "needs_background": "light"
     },
     "output_type": "display_data"
    }
   ],
   "source": [
    "plt.figure(figsize=(15,5))\n",
    "plt.text(0.1,77.777778,\"77.777778%\",bbox=dict(facecolor=\"white\"))\n",
    "plt.text(1.1,80.865018,\"80.865018%\",bbox=dict(facecolor=\"white\"))\n",
    "plt.text(2.1,90.000000,\"90.000000%\",bbox=dict(facecolor=\"white\"))\n",
    "plt.text(3.1,90.641546,\"90.641546%\",bbox=dict(facecolor=\"white\"))\n",
    "plt.text(4.1,92.097653,\"92.097653%\",bbox=dict(facecolor=\"white\"))\n",
    "x = O[\"Country\"].unique()\n",
    "y = O[\"Recovery Percentage\"].unique()\n",
    "plt.stem(x,y,label=\"Recovery Percentage Out of Total Cases\")\n",
    "plt.xlabel(\"Countries\")\n",
    "plt.ylabel(\"Recovery Percentage\")\n",
    "plt.legend()\n",
    "sns.despine()\n",
    "plt.show()"
   ]
  },
  {
   "cell_type": "markdown",
   "id": "e82e7934",
   "metadata": {},
   "source": [
    "# Countries Having Maximum Number of Recovered Cases"
   ]
  },
  {
   "cell_type": "code",
   "execution_count": 46,
   "id": "7ae51121",
   "metadata": {},
   "outputs": [
    {
     "data": {
      "text/html": [
       "<div>\n",
       "<style scoped>\n",
       "    .dataframe tbody tr th:only-of-type {\n",
       "        vertical-align: middle;\n",
       "    }\n",
       "\n",
       "    .dataframe tbody tr th {\n",
       "        vertical-align: top;\n",
       "    }\n",
       "\n",
       "    .dataframe thead th {\n",
       "        text-align: right;\n",
       "    }\n",
       "</style>\n",
       "<table border=\"1\" class=\"dataframe\">\n",
       "  <thead>\n",
       "    <tr style=\"text-align: right;\">\n",
       "      <th></th>\n",
       "      <th>Country</th>\n",
       "      <th>Total Cases</th>\n",
       "      <th>Total Recovered</th>\n",
       "      <th>Active Cases</th>\n",
       "      <th>Inactive Cases</th>\n",
       "      <th>Recovery Percentage</th>\n",
       "    </tr>\n",
       "  </thead>\n",
       "  <tbody>\n",
       "    <tr>\n",
       "      <th>0</th>\n",
       "      <td>USA</td>\n",
       "      <td>104196861</td>\n",
       "      <td>101322779</td>\n",
       "      <td>1741147</td>\n",
       "      <td>102455714</td>\n",
       "      <td>98.894220</td>\n",
       "    </tr>\n",
       "    <tr>\n",
       "      <th>1</th>\n",
       "      <td>India</td>\n",
       "      <td>44682784</td>\n",
       "      <td>44150289</td>\n",
       "      <td>1755</td>\n",
       "      <td>44681029</td>\n",
       "      <td>98.812158</td>\n",
       "    </tr>\n",
       "    <tr>\n",
       "      <th>2</th>\n",
       "      <td>France</td>\n",
       "      <td>39524311</td>\n",
       "      <td>39264546</td>\n",
       "      <td>95532</td>\n",
       "      <td>39428779</td>\n",
       "      <td>99.583469</td>\n",
       "    </tr>\n",
       "    <tr>\n",
       "      <th>3</th>\n",
       "      <td>Germany</td>\n",
       "      <td>37779833</td>\n",
       "      <td>37398100</td>\n",
       "      <td>216022</td>\n",
       "      <td>37563811</td>\n",
       "      <td>99.558855</td>\n",
       "    </tr>\n",
       "    <tr>\n",
       "      <th>4</th>\n",
       "      <td>Brazil</td>\n",
       "      <td>36824580</td>\n",
       "      <td>35919372</td>\n",
       "      <td>208134</td>\n",
       "      <td>36616446</td>\n",
       "      <td>98.096282</td>\n",
       "    </tr>\n",
       "  </tbody>\n",
       "</table>\n",
       "</div>"
      ],
      "text/plain": [
       "   Country  Total Cases  Total Recovered  Active Cases  Inactive Cases  \\\n",
       "0      USA    104196861        101322779       1741147       102455714   \n",
       "1    India     44682784         44150289          1755        44681029   \n",
       "2   France     39524311         39264546         95532        39428779   \n",
       "3  Germany     37779833         37398100        216022        37563811   \n",
       "4   Brazil     36824580         35919372        208134        36616446   \n",
       "\n",
       "   Recovery Percentage  \n",
       "0            98.894220  \n",
       "1            98.812158  \n",
       "2            99.583469  \n",
       "3            99.558855  \n",
       "4            98.096282  "
      ]
     },
     "execution_count": 46,
     "metadata": {},
     "output_type": "execute_result"
    }
   ],
   "source": [
    "P = M.sort_values([\"Total Recovered\"],ascending=False).head()\n",
    "P"
   ]
  },
  {
   "cell_type": "code",
   "execution_count": 47,
   "id": "4a940294",
   "metadata": {},
   "outputs": [
    {
     "data": {
      "text/plain": [
       "<function matplotlib.pyplot.plot(*args, scalex=True, scaley=True, data=None, **kwargs)>"
      ]
     },
     "execution_count": 47,
     "metadata": {},
     "output_type": "execute_result"
    },
    {
     "data": {
      "image/png": "[encoded data removed]",
      "text/plain": [
       "<Figure size 1080x360 with 1 Axes>"
      ]
     },
     "metadata": {
      "needs_background": "light"
     },
     "output_type": "display_data"
    }
   ],
   "source": [
    "plt.figure(figsize=(15,5))\n",
    "plt.text(0,101322779,\"10,13,22,779\",bbox=dict(facecolor=\"white\"))\n",
    "plt.text(1,44150289,\"4,41,50,289\",bbox=dict(facecolor=\"white\"))\n",
    "plt.text(2,39264546,\"3,92,64,546\",bbox=dict(facecolor=\"white\"))\n",
    "plt.text(3,37398100,\"3,73,98,100\",bbox=dict(facecolor=\"white\"))\n",
    "plt.text(4,35919372,\"3,59,19,372\",bbox=dict(facecolor=\"white\"))\n",
    "sns.barplot(x=\"Country\",y=\"Total Recovered\",data=P,label=\"Maximum Recovered Cases\")\n",
    "plt.legend()\n",
    "sns.despine()\n",
    "plt.plot"
   ]
  },
  {
   "cell_type": "markdown",
   "id": "0a4cf303",
   "metadata": {},
   "source": [
    "# Countries Having Minimum Number of Recovered Cases"
   ]
  },
  {
   "cell_type": "code",
   "execution_count": 48,
   "id": "bdf9f7d6",
   "metadata": {},
   "outputs": [
    {
     "data": {
      "text/html": [
       "<div>\n",
       "<style scoped>\n",
       "    .dataframe tbody tr th:only-of-type {\n",
       "        vertical-align: middle;\n",
       "    }\n",
       "\n",
       "    .dataframe tbody tr th {\n",
       "        vertical-align: top;\n",
       "    }\n",
       "\n",
       "    .dataframe thead th {\n",
       "        text-align: right;\n",
       "    }\n",
       "</style>\n",
       "<table border=\"1\" class=\"dataframe\">\n",
       "  <thead>\n",
       "    <tr style=\"text-align: right;\">\n",
       "      <th></th>\n",
       "      <th>Country</th>\n",
       "      <th>Total Cases</th>\n",
       "      <th>Total Recovered</th>\n",
       "      <th>Active Cases</th>\n",
       "      <th>Inactive Cases</th>\n",
       "      <th>Recovery Percentage</th>\n",
       "    </tr>\n",
       "  </thead>\n",
       "  <tbody>\n",
       "    <tr>\n",
       "      <th>222</th>\n",
       "      <td>Saint Helena</td>\n",
       "      <td>2166</td>\n",
       "      <td>2</td>\n",
       "      <td>2164</td>\n",
       "      <td>2</td>\n",
       "      <td>100.000000</td>\n",
       "    </tr>\n",
       "    <tr>\n",
       "      <th>229</th>\n",
       "      <td>MS Zaandam</td>\n",
       "      <td>9</td>\n",
       "      <td>7</td>\n",
       "      <td>0</td>\n",
       "      <td>9</td>\n",
       "      <td>77.777778</td>\n",
       "    </tr>\n",
       "    <tr>\n",
       "      <th>228</th>\n",
       "      <td>Western Sahara</td>\n",
       "      <td>10</td>\n",
       "      <td>9</td>\n",
       "      <td>0</td>\n",
       "      <td>10</td>\n",
       "      <td>90.000000</td>\n",
       "    </tr>\n",
       "    <tr>\n",
       "      <th>227</th>\n",
       "      <td>Vatican City</td>\n",
       "      <td>29</td>\n",
       "      <td>29</td>\n",
       "      <td>0</td>\n",
       "      <td>29</td>\n",
       "      <td>100.000000</td>\n",
       "    </tr>\n",
       "    <tr>\n",
       "      <th>220</th>\n",
       "      <td>Wallis and Futuna</td>\n",
       "      <td>3427</td>\n",
       "      <td>438</td>\n",
       "      <td>2982</td>\n",
       "      <td>445</td>\n",
       "      <td>98.426966</td>\n",
       "    </tr>\n",
       "  </tbody>\n",
       "</table>\n",
       "</div>"
      ],
      "text/plain": [
       "               Country  Total Cases  Total Recovered  Active Cases  \\\n",
       "222       Saint Helena         2166                2          2164   \n",
       "229         MS Zaandam            9                7             0   \n",
       "228     Western Sahara           10                9             0   \n",
       "227       Vatican City           29               29             0   \n",
       "220  Wallis and Futuna         3427              438          2982   \n",
       "\n",
       "     Inactive Cases  Recovery Percentage  \n",
       "222               2           100.000000  \n",
       "229               9            77.777778  \n",
       "228              10            90.000000  \n",
       "227              29           100.000000  \n",
       "220             445            98.426966  "
      ]
     },
     "execution_count": 48,
     "metadata": {},
     "output_type": "execute_result"
    }
   ],
   "source": [
    "Q = M.sort_values([\"Total Recovered\"],ascending=True).head()\n",
    "Q"
   ]
  },
  {
   "cell_type": "code",
   "execution_count": 49,
   "id": "741fd00f",
   "metadata": {},
   "outputs": [
    {
     "data": {
      "text/plain": [
       "<function matplotlib.pyplot.plot(*args, scalex=True, scaley=True, data=None, **kwargs)>"
      ]
     },
     "execution_count": 49,
     "metadata": {},
     "output_type": "execute_result"
    },
    {
     "data": {
      "image/png": "[encoded data removed]",
      "text/plain": [
       "<Figure size 1080x360 with 1 Axes>"
      ]
     },
     "metadata": {
      "needs_background": "light"
     },
     "output_type": "display_data"
    }
   ],
   "source": [
    "plt.figure(figsize=(15,5))\n",
    "plt.text(0,2,\"2\",bbox=dict(facecolor=\"white\"))\n",
    "plt.text(1,7,\"7\",bbox=dict(facecolor=\"white\"))\n",
    "plt.text(2,9,\"9\",bbox=dict(facecolor=\"white\"))\n",
    "plt.text(3,29,\"29\",bbox=dict(facecolor=\"white\"))\n",
    "plt.text(4,438,\"438\",bbox=dict(facecolor=\"white\"))\n",
    "sns.barplot(x=\"Country\",y=\"Total Recovered\",data=Q,label=\"Mimimum Recovered Cases\")\n",
    "plt.legend()\n",
    "sns.despine()\n",
    "plt.plot"
   ]
  },
  {
   "cell_type": "markdown",
   "id": "96394bae",
   "metadata": {},
   "source": [
    "# Countries that Conducted the Maximum Number of Covid Test"
   ]
  },
  {
   "cell_type": "code",
   "execution_count": 50,
   "id": "ec50805a",
   "metadata": {},
   "outputs": [
    {
     "data": {
      "text/plain": [
       "Country         0\n",
       "Total Cases     0\n",
       "Total Test     18\n",
       "dtype: int64"
      ]
     },
     "execution_count": 50,
     "metadata": {},
     "output_type": "execute_result"
    }
   ],
   "source": [
    "R = DS1.loc[:,[\"Country\",\"Total Cases\",\"Total Test\"]]\n",
    "R.isnull().sum()"
   ]
  },
  {
   "cell_type": "code",
   "execution_count": 51,
   "id": "61390ce6",
   "metadata": {},
   "outputs": [
    {
     "data": {
      "text/plain": [
       "Country        0\n",
       "Total Cases    0\n",
       "Total Test     0\n",
       "dtype: int64"
      ]
     },
     "execution_count": 51,
     "metadata": {},
     "output_type": "execute_result"
    }
   ],
   "source": [
    "# There are 18 countries about which we have no idea that how many covid test had being conducted by them , so we are dropping those countries \n",
    "R.dropna(inplace=True)\n",
    "R.isnull().sum()"
   ]
  },
  {
   "cell_type": "code",
   "execution_count": 52,
   "id": "bdce10f3",
   "metadata": {},
   "outputs": [],
   "source": [
    "# Changing the Datatype of Total Cases to int\n",
    "R[\"Total Test\"] = R[\"Total Test\"].str.replace(\",\",\"\")\n",
    "R[\"Total Test\"] = R[\"Total Test\"].astype(int)"
   ]
  },
  {
   "cell_type": "code",
   "execution_count": 53,
   "id": "35a2892b",
   "metadata": {},
   "outputs": [
    {
     "data": {
      "text/html": [
       "<div>\n",
       "<style scoped>\n",
       "    .dataframe tbody tr th:only-of-type {\n",
       "        vertical-align: middle;\n",
       "    }\n",
       "\n",
       "    .dataframe tbody tr th {\n",
       "        vertical-align: top;\n",
       "    }\n",
       "\n",
       "    .dataframe thead th {\n",
       "        text-align: right;\n",
       "    }\n",
       "</style>\n",
       "<table border=\"1\" class=\"dataframe\">\n",
       "  <thead>\n",
       "    <tr style=\"text-align: right;\">\n",
       "      <th></th>\n",
       "      <th>Country</th>\n",
       "      <th>Total Cases</th>\n",
       "      <th>Total Test</th>\n",
       "    </tr>\n",
       "  </thead>\n",
       "  <tbody>\n",
       "    <tr>\n",
       "      <th>0</th>\n",
       "      <td>USA</td>\n",
       "      <td>104196861</td>\n",
       "      <td>1159832679</td>\n",
       "    </tr>\n",
       "    <tr>\n",
       "      <th>1</th>\n",
       "      <td>India</td>\n",
       "      <td>44682784</td>\n",
       "      <td>915265788</td>\n",
       "    </tr>\n",
       "    <tr>\n",
       "      <th>8</th>\n",
       "      <td>UK</td>\n",
       "      <td>24274361</td>\n",
       "      <td>522526476</td>\n",
       "    </tr>\n",
       "    <tr>\n",
       "      <th>11</th>\n",
       "      <td>Spain</td>\n",
       "      <td>13731478</td>\n",
       "      <td>471036328</td>\n",
       "    </tr>\n",
       "    <tr>\n",
       "      <th>9</th>\n",
       "      <td>Russia</td>\n",
       "      <td>21958696</td>\n",
       "      <td>273400000</td>\n",
       "    </tr>\n",
       "  </tbody>\n",
       "</table>\n",
       "</div>"
      ],
      "text/plain": [
       "   Country  Total Cases  Total Test\n",
       "0      USA    104196861  1159832679\n",
       "1    India     44682784   915265788\n",
       "8       UK     24274361   522526476\n",
       "11   Spain     13731478   471036328\n",
       "9   Russia     21958696   273400000"
      ]
     },
     "execution_count": 53,
     "metadata": {},
     "output_type": "execute_result"
    }
   ],
   "source": [
    "S = R.sort_values([\"Total Test\"],ascending=False).head()\n",
    "S"
   ]
  },
  {
   "cell_type": "code",
   "execution_count": 54,
   "id": "22277652",
   "metadata": {},
   "outputs": [
    {
     "data": {
      "text/plain": [
       "<function matplotlib.pyplot.plot(*args, scalex=True, scaley=True, data=None, **kwargs)>"
      ]
     },
     "execution_count": 54,
     "metadata": {},
     "output_type": "execute_result"
    },
    {
     "data": {
      "image/png": "[encoded data removed]",
      "text/plain": [
       "<Figure size 1080x360 with 1 Axes>"
      ]
     },
     "metadata": {
      "needs_background": "light"
     },
     "output_type": "display_data"
    }
   ],
   "source": [
    "plt.figure(figsize=(15,5))\n",
    "plt.text(0,1159832679,\"1,15,98,32,679\",bbox=dict(facecolor=\"white\"))\n",
    "plt.text(1,915265788,\"91,52,65,788\",bbox=dict(facecolor=\"white\"))\n",
    "plt.text(2,522526476,\"52,25,26,476\",bbox=dict(facecolor=\"white\"))\n",
    "plt.text(3,471036328,\"47,10,36,328\",bbox=dict(facecolor=\"white\"))\n",
    "plt.text(4,273400000,\"27,34,00,000\",bbox=dict(facecolor=\"white\"))\n",
    "sns.barplot(x=\"Country\",y=\"Total Test\",data=S,label=\"Maximum Number of Covid Test Conducted\")\n",
    "plt.legend()\n",
    "sns.despine()\n",
    "plt.plot"
   ]
  },
  {
   "cell_type": "markdown",
   "id": "a5fc9a9e",
   "metadata": {},
   "source": [
    "# Countries that Conducted the Minimum Number of Covid Test"
   ]
  },
  {
   "cell_type": "code",
   "execution_count": 55,
   "id": "84965f0b",
   "metadata": {},
   "outputs": [
    {
     "data": {
      "text/html": [
       "<div>\n",
       "<style scoped>\n",
       "    .dataframe tbody tr th:only-of-type {\n",
       "        vertical-align: middle;\n",
       "    }\n",
       "\n",
       "    .dataframe tbody tr th {\n",
       "        vertical-align: top;\n",
       "    }\n",
       "\n",
       "    .dataframe thead th {\n",
       "        text-align: right;\n",
       "    }\n",
       "</style>\n",
       "<table border=\"1\" class=\"dataframe\">\n",
       "  <thead>\n",
       "    <tr style=\"text-align: right;\">\n",
       "      <th></th>\n",
       "      <th>Country</th>\n",
       "      <th>Total Cases</th>\n",
       "      <th>Total Test</th>\n",
       "    </tr>\n",
       "  </thead>\n",
       "  <tbody>\n",
       "    <tr>\n",
       "      <th>218</th>\n",
       "      <td>Macao</td>\n",
       "      <td>3488</td>\n",
       "      <td>7850</td>\n",
       "    </tr>\n",
       "    <tr>\n",
       "      <th>223</th>\n",
       "      <td>Falkland Islands</td>\n",
       "      <td>1930</td>\n",
       "      <td>8632</td>\n",
       "    </tr>\n",
       "    <tr>\n",
       "      <th>224</th>\n",
       "      <td>Montserrat</td>\n",
       "      <td>1403</td>\n",
       "      <td>17762</td>\n",
       "    </tr>\n",
       "    <tr>\n",
       "      <th>202</th>\n",
       "      <td>Antigua and Barbuda</td>\n",
       "      <td>9106</td>\n",
       "      <td>18901</td>\n",
       "    </tr>\n",
       "    <tr>\n",
       "      <th>209</th>\n",
       "      <td>Cook Islands</td>\n",
       "      <td>7011</td>\n",
       "      <td>19690</td>\n",
       "    </tr>\n",
       "  </tbody>\n",
       "</table>\n",
       "</div>"
      ],
      "text/plain": [
       "                 Country  Total Cases  Total Test\n",
       "218                Macao         3488        7850\n",
       "223     Falkland Islands         1930        8632\n",
       "224           Montserrat         1403       17762\n",
       "202  Antigua and Barbuda         9106       18901\n",
       "209         Cook Islands         7011       19690"
      ]
     },
     "execution_count": 55,
     "metadata": {},
     "output_type": "execute_result"
    }
   ],
   "source": [
    "T = R.sort_values([\"Total Test\"],ascending=True).head()\n",
    "T"
   ]
  },
  {
   "cell_type": "code",
   "execution_count": 56,
   "id": "ebc8cd3c",
   "metadata": {},
   "outputs": [
    {
     "data": {
      "text/plain": [
       "<function matplotlib.pyplot.plot(*args, scalex=True, scaley=True, data=None, **kwargs)>"
      ]
     },
     "execution_count": 56,
     "metadata": {},
     "output_type": "execute_result"
    },
    {
     "data": {
      "image/png": "[encoded data removed]",
      "text/plain": [
       "<Figure size 1080x360 with 1 Axes>"
      ]
     },
     "metadata": {
      "needs_background": "light"
     },
     "output_type": "display_data"
    }
   ],
   "source": [
    "plt.figure(figsize=(15,5))\n",
    "plt.text(0,7850,\"7,850\",bbox=dict(facecolor=\"white\"))\n",
    "plt.text(1,8632,\"8,632\",bbox=dict(facecolor=\"white\"))\n",
    "plt.text(2,17762,\"17,762\",bbox=dict(facecolor=\"white\"))\n",
    "plt.text(3,18901,\"18,901\",bbox=dict(facecolor=\"white\"))\n",
    "plt.text(4,19690,\"19,690\",bbox=dict(facecolor=\"white\"))\n",
    "sns.barplot(x=\"Country\",y=\"Total Test\",data=T,label=\"Minimum Number of Covid Test Conducted\")\n",
    "plt.legend()\n",
    "sns.despine()\n",
    "plt.plot"
   ]
  },
  {
   "cell_type": "markdown",
   "id": "802d5e13",
   "metadata": {},
   "source": [
    "# Countries having Maximum -ve Result On Covid Test"
   ]
  },
  {
   "cell_type": "code",
   "execution_count": 57,
   "id": "e3aad46f",
   "metadata": {},
   "outputs": [
    {
     "data": {
      "text/html": [
       "<div>\n",
       "<style scoped>\n",
       "    .dataframe tbody tr th:only-of-type {\n",
       "        vertical-align: middle;\n",
       "    }\n",
       "\n",
       "    .dataframe tbody tr th {\n",
       "        vertical-align: top;\n",
       "    }\n",
       "\n",
       "    .dataframe thead th {\n",
       "        text-align: right;\n",
       "    }\n",
       "</style>\n",
       "<table border=\"1\" class=\"dataframe\">\n",
       "  <thead>\n",
       "    <tr style=\"text-align: right;\">\n",
       "      <th></th>\n",
       "      <th>Country</th>\n",
       "      <th>Total Cases</th>\n",
       "      <th>Total Test</th>\n",
       "      <th>Negative Test</th>\n",
       "    </tr>\n",
       "  </thead>\n",
       "  <tbody>\n",
       "    <tr>\n",
       "      <th>0</th>\n",
       "      <td>USA</td>\n",
       "      <td>104196861</td>\n",
       "      <td>1159832679</td>\n",
       "      <td>1055635818</td>\n",
       "    </tr>\n",
       "    <tr>\n",
       "      <th>1</th>\n",
       "      <td>India</td>\n",
       "      <td>44682784</td>\n",
       "      <td>915265788</td>\n",
       "      <td>870583004</td>\n",
       "    </tr>\n",
       "    <tr>\n",
       "      <th>8</th>\n",
       "      <td>UK</td>\n",
       "      <td>24274361</td>\n",
       "      <td>522526476</td>\n",
       "      <td>498252115</td>\n",
       "    </tr>\n",
       "    <tr>\n",
       "      <th>11</th>\n",
       "      <td>Spain</td>\n",
       "      <td>13731478</td>\n",
       "      <td>471036328</td>\n",
       "      <td>457304850</td>\n",
       "    </tr>\n",
       "    <tr>\n",
       "      <th>9</th>\n",
       "      <td>Russia</td>\n",
       "      <td>21958696</td>\n",
       "      <td>273400000</td>\n",
       "      <td>251441304</td>\n",
       "    </tr>\n",
       "  </tbody>\n",
       "</table>\n",
       "</div>"
      ],
      "text/plain": [
       "   Country  Total Cases  Total Test  Negative Test\n",
       "0      USA    104196861  1159832679     1055635818\n",
       "1    India     44682784   915265788      870583004\n",
       "8       UK     24274361   522526476      498252115\n",
       "11   Spain     13731478   471036328      457304850\n",
       "9   Russia     21958696   273400000      251441304"
      ]
     },
     "execution_count": 57,
     "metadata": {},
     "output_type": "execute_result"
    }
   ],
   "source": [
    "R[\"Negative Test\"]=R[\"Total Test\"]-R[\"Total Cases\"]\n",
    "U = R.sort_values([\"Negative Test\"],ascending = False).head()\n",
    "U"
   ]
  },
  {
   "cell_type": "code",
   "execution_count": 58,
   "id": "7c877cb2",
   "metadata": {},
   "outputs": [
    {
     "data": {
      "text/plain": [
       "<function matplotlib.pyplot.plot(*args, scalex=True, scaley=True, data=None, **kwargs)>"
      ]
     },
     "execution_count": 58,
     "metadata": {},
     "output_type": "execute_result"
    },
    {
     "data": {
      "image/png": "[encoded data removed]",
      "text/plain": [
       "<Figure size 1080x360 with 1 Axes>"
      ]
     },
     "metadata": {
      "needs_background": "light"
     },
     "output_type": "display_data"
    }
   ],
   "source": [
    "plt.figure(figsize=(15,5))\n",
    "plt.text(0,1055635818,\"1,05,56,35,818\",bbox=dict(facecolor=\"white\"))\n",
    "plt.text(1,870583004,\"87,05,83,004\",bbox=dict(facecolor=\"white\"))\n",
    "plt.text(2,498252115,\"49,82,52,115\",bbox=dict(facecolor=\"white\"))\n",
    "plt.text(3,457304850,\"45,73,04,850\",bbox=dict(facecolor=\"white\"))\n",
    "plt.text(4,251441304,\"2,51,44,13,04\",bbox=dict(facecolor=\"white\"))\n",
    "sns.barplot(x=\"Country\",y=\"Negative Test\",data=U,label=\"Maximum Number of Negative Covid Result\")\n",
    "plt.legend()\n",
    "sns.despine()\n",
    "plt.plot"
   ]
  },
  {
   "cell_type": "markdown",
   "id": "621d247a",
   "metadata": {},
   "source": [
    "# Countries having Maximum -ve Result On Covid Test"
   ]
  },
  {
   "cell_type": "code",
   "execution_count": 59,
   "id": "d5f013db",
   "metadata": {},
   "outputs": [
    {
     "data": {
      "text/html": [
       "<div>\n",
       "<style scoped>\n",
       "    .dataframe tbody tr th:only-of-type {\n",
       "        vertical-align: middle;\n",
       "    }\n",
       "\n",
       "    .dataframe tbody tr th {\n",
       "        vertical-align: top;\n",
       "    }\n",
       "\n",
       "    .dataframe thead th {\n",
       "        text-align: right;\n",
       "    }\n",
       "</style>\n",
       "<table border=\"1\" class=\"dataframe\">\n",
       "  <thead>\n",
       "    <tr style=\"text-align: right;\">\n",
       "      <th></th>\n",
       "      <th>Country</th>\n",
       "      <th>Total Cases</th>\n",
       "      <th>Total Test</th>\n",
       "      <th>Negative Test</th>\n",
       "    </tr>\n",
       "  </thead>\n",
       "  <tbody>\n",
       "    <tr>\n",
       "      <th>6</th>\n",
       "      <td>S. Korea</td>\n",
       "      <td>30197066</td>\n",
       "      <td>15804065</td>\n",
       "      <td>-14393001</td>\n",
       "    </tr>\n",
       "    <tr>\n",
       "      <th>106</th>\n",
       "      <td>Algeria</td>\n",
       "      <td>271378</td>\n",
       "      <td>230861</td>\n",
       "      <td>-40517</td>\n",
       "    </tr>\n",
       "    <tr>\n",
       "      <th>218</th>\n",
       "      <td>Macao</td>\n",
       "      <td>3488</td>\n",
       "      <td>7850</td>\n",
       "      <td>4362</td>\n",
       "    </tr>\n",
       "    <tr>\n",
       "      <th>223</th>\n",
       "      <td>Falkland Islands</td>\n",
       "      <td>1930</td>\n",
       "      <td>8632</td>\n",
       "      <td>6702</td>\n",
       "    </tr>\n",
       "    <tr>\n",
       "      <th>202</th>\n",
       "      <td>Antigua and Barbuda</td>\n",
       "      <td>9106</td>\n",
       "      <td>18901</td>\n",
       "      <td>9795</td>\n",
       "    </tr>\n",
       "  </tbody>\n",
       "</table>\n",
       "</div>"
      ],
      "text/plain": [
       "                 Country  Total Cases  Total Test  Negative Test\n",
       "6               S. Korea     30197066    15804065      -14393001\n",
       "106              Algeria       271378      230861         -40517\n",
       "218                Macao         3488        7850           4362\n",
       "223     Falkland Islands         1930        8632           6702\n",
       "202  Antigua and Barbuda         9106       18901           9795"
      ]
     },
     "execution_count": 59,
     "metadata": {},
     "output_type": "execute_result"
    }
   ],
   "source": [
    "V = R.sort_values([\"Negative Test\"],ascending = True).head()\n",
    "V"
   ]
  },
  {
   "cell_type": "markdown",
   "id": "13da3cfd",
   "metadata": {},
   "source": [
    "Result: Outcome being in Negative of Negative Test of S.Korea and Algeria make not much valid point , just indicating the data being wrong \n",
    "So we can drop the rows of that Countries."
   ]
  },
  {
   "cell_type": "code",
   "execution_count": 60,
   "id": "f4395a69",
   "metadata": {},
   "outputs": [
    {
     "data": {
      "text/html": [
       "<div>\n",
       "<style scoped>\n",
       "    .dataframe tbody tr th:only-of-type {\n",
       "        vertical-align: middle;\n",
       "    }\n",
       "\n",
       "    .dataframe tbody tr th {\n",
       "        vertical-align: top;\n",
       "    }\n",
       "\n",
       "    .dataframe thead th {\n",
       "        text-align: right;\n",
       "    }\n",
       "</style>\n",
       "<table border=\"1\" class=\"dataframe\">\n",
       "  <thead>\n",
       "    <tr style=\"text-align: right;\">\n",
       "      <th></th>\n",
       "      <th>Country</th>\n",
       "      <th>Total Cases</th>\n",
       "      <th>Total Test</th>\n",
       "      <th>Negative Test</th>\n",
       "    </tr>\n",
       "  </thead>\n",
       "  <tbody>\n",
       "    <tr>\n",
       "      <th>218</th>\n",
       "      <td>Macao</td>\n",
       "      <td>3488</td>\n",
       "      <td>7850</td>\n",
       "      <td>4362</td>\n",
       "    </tr>\n",
       "    <tr>\n",
       "      <th>223</th>\n",
       "      <td>Falkland Islands</td>\n",
       "      <td>1930</td>\n",
       "      <td>8632</td>\n",
       "      <td>6702</td>\n",
       "    </tr>\n",
       "    <tr>\n",
       "      <th>202</th>\n",
       "      <td>Antigua and Barbuda</td>\n",
       "      <td>9106</td>\n",
       "      <td>18901</td>\n",
       "      <td>9795</td>\n",
       "    </tr>\n",
       "  </tbody>\n",
       "</table>\n",
       "</div>"
      ],
      "text/plain": [
       "                 Country  Total Cases  Total Test  Negative Test\n",
       "218                Macao         3488        7850           4362\n",
       "223     Falkland Islands         1930        8632           6702\n",
       "202  Antigua and Barbuda         9106       18901           9795"
      ]
     },
     "execution_count": 60,
     "metadata": {},
     "output_type": "execute_result"
    }
   ],
   "source": [
    "W=V.drop([6,106],axis=0)\n",
    "W"
   ]
  },
  {
   "cell_type": "code",
   "execution_count": 61,
   "id": "43250bba",
   "metadata": {},
   "outputs": [
    {
     "data": {
      "text/plain": [
       "<function matplotlib.pyplot.plot(*args, scalex=True, scaley=True, data=None, **kwargs)>"
      ]
     },
     "execution_count": 61,
     "metadata": {},
     "output_type": "execute_result"
    },
    {
     "data": {
      "image/png": "[encoded data removed]",
      "text/plain": [
       "<Figure size 1080x360 with 1 Axes>"
      ]
     },
     "metadata": {
      "needs_background": "light"
     },
     "output_type": "display_data"
    }
   ],
   "source": [
    "plt.figure(figsize=(15,5))\n",
    "plt.text(0,4362,\"4,362\",bbox=dict(facecolor=\"white\"))\n",
    "plt.text(1,6702,\"6,702\",bbox=dict(facecolor=\"white\"))\n",
    "plt.text(2,9795,\"9,795\",bbox=dict(facecolor=\"white\"))\n",
    "sns.barplot(x=\"Country\",y=\"Negative Test\",data=W,label=\"Minimum Number of Negative Covid Result\")\n",
    "plt.legend()\n",
    "sns.despine()\n",
    "plt.plot"
   ]
  },
  {
   "cell_type": "markdown",
   "id": "d2fabf5a",
   "metadata": {},
   "source": [
    "# Population VS Affected_Population_Percentage "
   ]
  },
  {
   "cell_type": "code",
   "execution_count": 141,
   "id": "5cf3ce8c",
   "metadata": {},
   "outputs": [
    {
     "data": {
      "text/plain": [
       "<StemContainer object of 3 artists>"
      ]
     },
     "execution_count": 141,
     "metadata": {},
     "output_type": "execute_result"
    },
    {
     "data": {
      "image/png": "[encoded data removed]",
      "text/plain": [
       "<Figure size 1440x648 with 1 Axes>"
      ]
     },
     "metadata": {
      "needs_background": "light"
     },
     "output_type": "display_data"
    }
   ],
   "source": [
    "x=C[\"Population\"].unique()\n",
    "y= C[\"Affected_Population_Percentage\"].unique()\n",
    "plt.figure(figsize=(20,9))\n",
    "plt.xlabel(\"Population\")\n",
    "plt.ylabel(\"Affectted_Population_Population\")\n",
    "plt.annotate(\"India despite having much population, is having only Appox 3% of Affected Population from Covid \",(1406631776,4),(606631776,40),arrowprops=dict(facecolor=\"green\"),bbox=dict(facecolor=\"green\"))\n",
    "plt.annotate(\"Countries having the Population Aprox 60 K , is having wide range of Affect from even 0% to 70%\" ,(7000000,35),(200631776,60),arrowprops=dict(facecolor=\"green\"),bbox=dict(facecolor=\"green\"))\n",
    "plt.stem(x,y,markerfmt=\"g*\")"
   ]
  },
  {
   "cell_type": "code",
   "execution_count": null,
   "id": "b79acbda",
   "metadata": {},
   "outputs": [],
   "source": []
  },
  {
   "cell_type": "code",
   "execution_count": null,
   "id": "1e12c506",
   "metadata": {},
   "outputs": [],
   "source": []
  },
  {
   "cell_type": "code",
   "execution_count": null,
   "id": "1d60e101",
   "metadata": {},
   "outputs": [],
   "source": []
  }
 ],
 "metadata": {
  "kernelspec": {
   "display_name": "Python 3 (ipykernel)",
   "language": "python",
   "name": "python3"
  },
  "language_info": {
   "codemirror_mode": {
    "name": "ipython",
    "version": 3
   },
   "file_extension": ".py",
   "mimetype": "text/x-python",
   "name": "python",
   "nbconvert_exporter": "python",
   "pygments_lexer": "ipython3",
   "version": "3.9.12"
  }
 },
 "nbformat": 4,
 "nbformat_minor": 5
}
